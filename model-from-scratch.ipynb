{
 "cells": [
  {
   "cell_type": "code",
   "execution_count": 1,
   "id": "749909a6",
   "metadata": {
    "execution": {
     "iopub.execute_input": "2023-12-24T11:16:28.971989Z",
     "iopub.status.busy": "2023-12-24T11:16:28.971616Z",
     "iopub.status.idle": "2023-12-24T11:16:29.708784Z",
     "shell.execute_reply": "2023-12-24T11:16:29.707818Z"
    },
    "papermill": {
     "duration": 0.759053,
     "end_time": "2023-12-24T11:16:29.711174",
     "exception": false,
     "start_time": "2023-12-24T11:16:28.952121",
     "status": "completed"
    },
    "tags": []
   },
   "outputs": [],
   "source": [
    "import pandas as pd, numpy as np"
   ]
  },
  {
   "cell_type": "code",
   "execution_count": 2,
   "id": "3c7d4472",
   "metadata": {
    "execution": {
     "iopub.execute_input": "2023-12-24T11:16:29.749303Z",
     "iopub.status.busy": "2023-12-24T11:16:29.748379Z",
     "iopub.status.idle": "2023-12-24T11:16:29.794927Z",
     "shell.execute_reply": "2023-12-24T11:16:29.793966Z"
    },
    "papermill": {
     "duration": 0.067525,
     "end_time": "2023-12-24T11:16:29.797043",
     "exception": false,
     "start_time": "2023-12-24T11:16:29.729518",
     "status": "completed"
    },
    "tags": []
   },
   "outputs": [
    {
     "data": {
      "text/html": [
       "<div>\n",
       "<style scoped>\n",
       "    .dataframe tbody tr th:only-of-type {\n",
       "        vertical-align: middle;\n",
       "    }\n",
       "\n",
       "    .dataframe tbody tr th {\n",
       "        vertical-align: top;\n",
       "    }\n",
       "\n",
       "    .dataframe thead th {\n",
       "        text-align: right;\n",
       "    }\n",
       "</style>\n",
       "<table border=\"1\" class=\"dataframe\">\n",
       "  <thead>\n",
       "    <tr style=\"text-align: right;\">\n",
       "      <th></th>\n",
       "      <th>PassengerId</th>\n",
       "      <th>Survived</th>\n",
       "      <th>Pclass</th>\n",
       "      <th>Name</th>\n",
       "      <th>Sex</th>\n",
       "      <th>Age</th>\n",
       "      <th>SibSp</th>\n",
       "      <th>Parch</th>\n",
       "      <th>Ticket</th>\n",
       "      <th>Fare</th>\n",
       "      <th>Cabin</th>\n",
       "      <th>Embarked</th>\n",
       "    </tr>\n",
       "  </thead>\n",
       "  <tbody>\n",
       "    <tr>\n",
       "      <th>0</th>\n",
       "      <td>1</td>\n",
       "      <td>0</td>\n",
       "      <td>3</td>\n",
       "      <td>Braund, Mr. Owen Harris</td>\n",
       "      <td>male</td>\n",
       "      <td>22.0</td>\n",
       "      <td>1</td>\n",
       "      <td>0</td>\n",
       "      <td>A/5 21171</td>\n",
       "      <td>7.2500</td>\n",
       "      <td>NaN</td>\n",
       "      <td>S</td>\n",
       "    </tr>\n",
       "    <tr>\n",
       "      <th>1</th>\n",
       "      <td>2</td>\n",
       "      <td>1</td>\n",
       "      <td>1</td>\n",
       "      <td>Cumings, Mrs. John Bradley (Florence Briggs Th...</td>\n",
       "      <td>female</td>\n",
       "      <td>38.0</td>\n",
       "      <td>1</td>\n",
       "      <td>0</td>\n",
       "      <td>PC 17599</td>\n",
       "      <td>71.2833</td>\n",
       "      <td>C85</td>\n",
       "      <td>C</td>\n",
       "    </tr>\n",
       "    <tr>\n",
       "      <th>2</th>\n",
       "      <td>3</td>\n",
       "      <td>1</td>\n",
       "      <td>3</td>\n",
       "      <td>Heikkinen, Miss. Laina</td>\n",
       "      <td>female</td>\n",
       "      <td>26.0</td>\n",
       "      <td>0</td>\n",
       "      <td>0</td>\n",
       "      <td>STON/O2. 3101282</td>\n",
       "      <td>7.9250</td>\n",
       "      <td>NaN</td>\n",
       "      <td>S</td>\n",
       "    </tr>\n",
       "    <tr>\n",
       "      <th>3</th>\n",
       "      <td>4</td>\n",
       "      <td>1</td>\n",
       "      <td>1</td>\n",
       "      <td>Futrelle, Mrs. Jacques Heath (Lily May Peel)</td>\n",
       "      <td>female</td>\n",
       "      <td>35.0</td>\n",
       "      <td>1</td>\n",
       "      <td>0</td>\n",
       "      <td>113803</td>\n",
       "      <td>53.1000</td>\n",
       "      <td>C123</td>\n",
       "      <td>S</td>\n",
       "    </tr>\n",
       "    <tr>\n",
       "      <th>4</th>\n",
       "      <td>5</td>\n",
       "      <td>0</td>\n",
       "      <td>3</td>\n",
       "      <td>Allen, Mr. William Henry</td>\n",
       "      <td>male</td>\n",
       "      <td>35.0</td>\n",
       "      <td>0</td>\n",
       "      <td>0</td>\n",
       "      <td>373450</td>\n",
       "      <td>8.0500</td>\n",
       "      <td>NaN</td>\n",
       "      <td>S</td>\n",
       "    </tr>\n",
       "    <tr>\n",
       "      <th>...</th>\n",
       "      <td>...</td>\n",
       "      <td>...</td>\n",
       "      <td>...</td>\n",
       "      <td>...</td>\n",
       "      <td>...</td>\n",
       "      <td>...</td>\n",
       "      <td>...</td>\n",
       "      <td>...</td>\n",
       "      <td>...</td>\n",
       "      <td>...</td>\n",
       "      <td>...</td>\n",
       "      <td>...</td>\n",
       "    </tr>\n",
       "    <tr>\n",
       "      <th>886</th>\n",
       "      <td>887</td>\n",
       "      <td>0</td>\n",
       "      <td>2</td>\n",
       "      <td>Montvila, Rev. Juozas</td>\n",
       "      <td>male</td>\n",
       "      <td>27.0</td>\n",
       "      <td>0</td>\n",
       "      <td>0</td>\n",
       "      <td>211536</td>\n",
       "      <td>13.0000</td>\n",
       "      <td>NaN</td>\n",
       "      <td>S</td>\n",
       "    </tr>\n",
       "    <tr>\n",
       "      <th>887</th>\n",
       "      <td>888</td>\n",
       "      <td>1</td>\n",
       "      <td>1</td>\n",
       "      <td>Graham, Miss. Margaret Edith</td>\n",
       "      <td>female</td>\n",
       "      <td>19.0</td>\n",
       "      <td>0</td>\n",
       "      <td>0</td>\n",
       "      <td>112053</td>\n",
       "      <td>30.0000</td>\n",
       "      <td>B42</td>\n",
       "      <td>S</td>\n",
       "    </tr>\n",
       "    <tr>\n",
       "      <th>888</th>\n",
       "      <td>889</td>\n",
       "      <td>0</td>\n",
       "      <td>3</td>\n",
       "      <td>Johnston, Miss. Catherine Helen \"Carrie\"</td>\n",
       "      <td>female</td>\n",
       "      <td>NaN</td>\n",
       "      <td>1</td>\n",
       "      <td>2</td>\n",
       "      <td>W./C. 6607</td>\n",
       "      <td>23.4500</td>\n",
       "      <td>NaN</td>\n",
       "      <td>S</td>\n",
       "    </tr>\n",
       "    <tr>\n",
       "      <th>889</th>\n",
       "      <td>890</td>\n",
       "      <td>1</td>\n",
       "      <td>1</td>\n",
       "      <td>Behr, Mr. Karl Howell</td>\n",
       "      <td>male</td>\n",
       "      <td>26.0</td>\n",
       "      <td>0</td>\n",
       "      <td>0</td>\n",
       "      <td>111369</td>\n",
       "      <td>30.0000</td>\n",
       "      <td>C148</td>\n",
       "      <td>C</td>\n",
       "    </tr>\n",
       "    <tr>\n",
       "      <th>890</th>\n",
       "      <td>891</td>\n",
       "      <td>0</td>\n",
       "      <td>3</td>\n",
       "      <td>Dooley, Mr. Patrick</td>\n",
       "      <td>male</td>\n",
       "      <td>32.0</td>\n",
       "      <td>0</td>\n",
       "      <td>0</td>\n",
       "      <td>370376</td>\n",
       "      <td>7.7500</td>\n",
       "      <td>NaN</td>\n",
       "      <td>Q</td>\n",
       "    </tr>\n",
       "  </tbody>\n",
       "</table>\n",
       "<p>891 rows × 12 columns</p>\n",
       "</div>"
      ],
      "text/plain": [
       "     PassengerId  Survived  Pclass  \\\n",
       "0              1         0       3   \n",
       "1              2         1       1   \n",
       "2              3         1       3   \n",
       "3              4         1       1   \n",
       "4              5         0       3   \n",
       "..           ...       ...     ...   \n",
       "886          887         0       2   \n",
       "887          888         1       1   \n",
       "888          889         0       3   \n",
       "889          890         1       1   \n",
       "890          891         0       3   \n",
       "\n",
       "                                                  Name     Sex   Age  SibSp  \\\n",
       "0                              Braund, Mr. Owen Harris    male  22.0      1   \n",
       "1    Cumings, Mrs. John Bradley (Florence Briggs Th...  female  38.0      1   \n",
       "2                               Heikkinen, Miss. Laina  female  26.0      0   \n",
       "3         Futrelle, Mrs. Jacques Heath (Lily May Peel)  female  35.0      1   \n",
       "4                             Allen, Mr. William Henry    male  35.0      0   \n",
       "..                                                 ...     ...   ...    ...   \n",
       "886                              Montvila, Rev. Juozas    male  27.0      0   \n",
       "887                       Graham, Miss. Margaret Edith  female  19.0      0   \n",
       "888           Johnston, Miss. Catherine Helen \"Carrie\"  female   NaN      1   \n",
       "889                              Behr, Mr. Karl Howell    male  26.0      0   \n",
       "890                                Dooley, Mr. Patrick    male  32.0      0   \n",
       "\n",
       "     Parch            Ticket     Fare Cabin Embarked  \n",
       "0        0         A/5 21171   7.2500   NaN        S  \n",
       "1        0          PC 17599  71.2833   C85        C  \n",
       "2        0  STON/O2. 3101282   7.9250   NaN        S  \n",
       "3        0            113803  53.1000  C123        S  \n",
       "4        0            373450   8.0500   NaN        S  \n",
       "..     ...               ...      ...   ...      ...  \n",
       "886      0            211536  13.0000   NaN        S  \n",
       "887      0            112053  30.0000   B42        S  \n",
       "888      2        W./C. 6607  23.4500   NaN        S  \n",
       "889      0            111369  30.0000  C148        C  \n",
       "890      0            370376   7.7500   NaN        Q  \n",
       "\n",
       "[891 rows x 12 columns]"
      ]
     },
     "execution_count": 2,
     "metadata": {},
     "output_type": "execute_result"
    }
   ],
   "source": [
    "df=pd.read_csv(\"/kaggle/input/titanic/train.csv\") \n",
    "df"
   ]
  },
  {
   "cell_type": "code",
   "execution_count": 3,
   "id": "c80bc6df",
   "metadata": {
    "execution": {
     "iopub.execute_input": "2023-12-24T11:16:29.834611Z",
     "iopub.status.busy": "2023-12-24T11:16:29.834285Z",
     "iopub.status.idle": "2023-12-24T11:16:29.842781Z",
     "shell.execute_reply": "2023-12-24T11:16:29.841873Z"
    },
    "papermill": {
     "duration": 0.0298,
     "end_time": "2023-12-24T11:16:29.844996",
     "exception": false,
     "start_time": "2023-12-24T11:16:29.815196",
     "status": "completed"
    },
    "tags": []
   },
   "outputs": [
    {
     "data": {
      "text/plain": [
       "PassengerId      0\n",
       "Survived         0\n",
       "Pclass           0\n",
       "Name             0\n",
       "Sex              0\n",
       "Age            177\n",
       "SibSp            0\n",
       "Parch            0\n",
       "Ticket           0\n",
       "Fare             0\n",
       "Cabin          687\n",
       "Embarked         2\n",
       "dtype: int64"
      ]
     },
     "execution_count": 3,
     "metadata": {},
     "output_type": "execute_result"
    }
   ],
   "source": [
    "df.isna().sum()"
   ]
  },
  {
   "cell_type": "code",
   "execution_count": 4,
   "id": "e5b5ccdd",
   "metadata": {
    "execution": {
     "iopub.execute_input": "2023-12-24T11:16:29.884899Z",
     "iopub.status.busy": "2023-12-24T11:16:29.884583Z",
     "iopub.status.idle": "2023-12-24T11:16:29.910637Z",
     "shell.execute_reply": "2023-12-24T11:16:29.909692Z"
    },
    "papermill": {
     "duration": 0.047519,
     "end_time": "2023-12-24T11:16:29.912638",
     "exception": false,
     "start_time": "2023-12-24T11:16:29.865119",
     "status": "completed"
    },
    "tags": []
   },
   "outputs": [
    {
     "data": {
      "text/html": [
       "<div>\n",
       "<style scoped>\n",
       "    .dataframe tbody tr th:only-of-type {\n",
       "        vertical-align: middle;\n",
       "    }\n",
       "\n",
       "    .dataframe tbody tr th {\n",
       "        vertical-align: top;\n",
       "    }\n",
       "\n",
       "    .dataframe thead th {\n",
       "        text-align: right;\n",
       "    }\n",
       "</style>\n",
       "<table border=\"1\" class=\"dataframe\">\n",
       "  <thead>\n",
       "    <tr style=\"text-align: right;\">\n",
       "      <th></th>\n",
       "      <th>0</th>\n",
       "    </tr>\n",
       "  </thead>\n",
       "  <tbody>\n",
       "    <tr>\n",
       "      <th>PassengerId</th>\n",
       "      <td>1</td>\n",
       "    </tr>\n",
       "    <tr>\n",
       "      <th>Survived</th>\n",
       "      <td>0.0</td>\n",
       "    </tr>\n",
       "    <tr>\n",
       "      <th>Pclass</th>\n",
       "      <td>3.0</td>\n",
       "    </tr>\n",
       "    <tr>\n",
       "      <th>Name</th>\n",
       "      <td>Abbing, Mr. Anthony</td>\n",
       "    </tr>\n",
       "    <tr>\n",
       "      <th>Sex</th>\n",
       "      <td>male</td>\n",
       "    </tr>\n",
       "    <tr>\n",
       "      <th>Age</th>\n",
       "      <td>24.0</td>\n",
       "    </tr>\n",
       "    <tr>\n",
       "      <th>SibSp</th>\n",
       "      <td>0.0</td>\n",
       "    </tr>\n",
       "    <tr>\n",
       "      <th>Parch</th>\n",
       "      <td>0.0</td>\n",
       "    </tr>\n",
       "    <tr>\n",
       "      <th>Ticket</th>\n",
       "      <td>1601</td>\n",
       "    </tr>\n",
       "    <tr>\n",
       "      <th>Fare</th>\n",
       "      <td>8.05</td>\n",
       "    </tr>\n",
       "    <tr>\n",
       "      <th>Cabin</th>\n",
       "      <td>B96 B98</td>\n",
       "    </tr>\n",
       "    <tr>\n",
       "      <th>Embarked</th>\n",
       "      <td>S</td>\n",
       "    </tr>\n",
       "  </tbody>\n",
       "</table>\n",
       "</div>"
      ],
      "text/plain": [
       "                               0\n",
       "PassengerId                    1\n",
       "Survived                     0.0\n",
       "Pclass                       3.0\n",
       "Name         Abbing, Mr. Anthony\n",
       "Sex                         male\n",
       "Age                         24.0\n",
       "SibSp                        0.0\n",
       "Parch                        0.0\n",
       "Ticket                      1601\n",
       "Fare                        8.05\n",
       "Cabin                    B96 B98\n",
       "Embarked                       S"
      ]
     },
     "execution_count": 4,
     "metadata": {},
     "output_type": "execute_result"
    }
   ],
   "source": [
    "# her sütunun en çok tekrar eden değeri yazdırdık yani modunu bulduk. iloc kullandık cunku mode en cok tekrar edenlerı ılk satıra toplamıs.\n",
    "modes = df.mode().iloc[0]\n",
    "df1=pd.DataFrame(modes)\n",
    "df1"
   ]
  },
  {
   "cell_type": "code",
   "execution_count": 5,
   "id": "def7d551",
   "metadata": {
    "execution": {
     "iopub.execute_input": "2023-12-24T11:16:29.951281Z",
     "iopub.status.busy": "2023-12-24T11:16:29.950933Z",
     "iopub.status.idle": "2023-12-24T11:16:29.967095Z",
     "shell.execute_reply": "2023-12-24T11:16:29.966171Z"
    },
    "papermill": {
     "duration": 0.037857,
     "end_time": "2023-12-24T11:16:29.969102",
     "exception": false,
     "start_time": "2023-12-24T11:16:29.931245",
     "status": "completed"
    },
    "tags": []
   },
   "outputs": [
    {
     "data": {
      "text/plain": [
       "PassengerId                      1\n",
       "Survived                       0.0\n",
       "Pclass                         3.0\n",
       "Name           Abbing, Mr. Anthony\n",
       "Sex                           male\n",
       "Age                           24.0\n",
       "SibSp                          0.0\n",
       "Parch                          0.0\n",
       "Ticket                        1601\n",
       "Fare                          8.05\n",
       "Cabin                      B96 B98\n",
       "Embarked                         S\n",
       "Name: 0, dtype: object"
      ]
     },
     "execution_count": 5,
     "metadata": {},
     "output_type": "execute_result"
    }
   ],
   "source": [
    "# her sütunun en çok tekrar eden değeri yazdırdık yani modunu bulduk. iloc kullandık cunku mode en cok tekrar edenlerı ılk satıra toplamıs.\n",
    "modes = df.mode().iloc[0]\n",
    "modes"
   ]
  },
  {
   "cell_type": "code",
   "execution_count": 6,
   "id": "668dec5e",
   "metadata": {
    "execution": {
     "iopub.execute_input": "2023-12-24T11:16:30.007930Z",
     "iopub.status.busy": "2023-12-24T11:16:30.007593Z",
     "iopub.status.idle": "2023-12-24T11:16:30.022935Z",
     "shell.execute_reply": "2023-12-24T11:16:30.022026Z"
    },
    "papermill": {
     "duration": 0.037324,
     "end_time": "2023-12-24T11:16:30.025047",
     "exception": false,
     "start_time": "2023-12-24T11:16:29.987723",
     "status": "completed"
    },
    "tags": []
   },
   "outputs": [
    {
     "name": "stderr",
     "output_type": "stream",
     "text": [
      "/tmp/ipykernel_26/2174289697.py:4: FutureWarning: Series.__getitem__ treating keys as positions is deprecated. In a future version, integer keys will always be treated as labels (consistent with DataFrame behavior). To access a value by position, use `ser.iloc[pos]`\n",
      "  j2.append(modes[m])\n"
     ]
    },
    {
     "data": {
      "text/html": [
       "<div>\n",
       "<style scoped>\n",
       "    .dataframe tbody tr th:only-of-type {\n",
       "        vertical-align: middle;\n",
       "    }\n",
       "\n",
       "    .dataframe tbody tr th {\n",
       "        vertical-align: top;\n",
       "    }\n",
       "\n",
       "    .dataframe thead th {\n",
       "        text-align: right;\n",
       "    }\n",
       "</style>\n",
       "<table border=\"1\" class=\"dataframe\">\n",
       "  <thead>\n",
       "    <tr style=\"text-align: right;\">\n",
       "      <th></th>\n",
       "      <th>column</th>\n",
       "      <th>mod</th>\n",
       "    </tr>\n",
       "  </thead>\n",
       "  <tbody>\n",
       "    <tr>\n",
       "      <th>0</th>\n",
       "      <td>PassengerId</td>\n",
       "      <td>1</td>\n",
       "    </tr>\n",
       "    <tr>\n",
       "      <th>1</th>\n",
       "      <td>Survived</td>\n",
       "      <td>0.0</td>\n",
       "    </tr>\n",
       "    <tr>\n",
       "      <th>2</th>\n",
       "      <td>Pclass</td>\n",
       "      <td>3.0</td>\n",
       "    </tr>\n",
       "    <tr>\n",
       "      <th>3</th>\n",
       "      <td>Name</td>\n",
       "      <td>Abbing, Mr. Anthony</td>\n",
       "    </tr>\n",
       "    <tr>\n",
       "      <th>4</th>\n",
       "      <td>Sex</td>\n",
       "      <td>male</td>\n",
       "    </tr>\n",
       "    <tr>\n",
       "      <th>5</th>\n",
       "      <td>Age</td>\n",
       "      <td>24.0</td>\n",
       "    </tr>\n",
       "    <tr>\n",
       "      <th>6</th>\n",
       "      <td>SibSp</td>\n",
       "      <td>0.0</td>\n",
       "    </tr>\n",
       "    <tr>\n",
       "      <th>7</th>\n",
       "      <td>Parch</td>\n",
       "      <td>0.0</td>\n",
       "    </tr>\n",
       "    <tr>\n",
       "      <th>8</th>\n",
       "      <td>Ticket</td>\n",
       "      <td>1601</td>\n",
       "    </tr>\n",
       "    <tr>\n",
       "      <th>9</th>\n",
       "      <td>Fare</td>\n",
       "      <td>8.05</td>\n",
       "    </tr>\n",
       "    <tr>\n",
       "      <th>10</th>\n",
       "      <td>Cabin</td>\n",
       "      <td>B96 B98</td>\n",
       "    </tr>\n",
       "    <tr>\n",
       "      <th>11</th>\n",
       "      <td>Embarked</td>\n",
       "      <td>S</td>\n",
       "    </tr>\n",
       "  </tbody>\n",
       "</table>\n",
       "</div>"
      ],
      "text/plain": [
       "         column                  mod\n",
       "0   PassengerId                    1\n",
       "1      Survived                  0.0\n",
       "2        Pclass                  3.0\n",
       "3          Name  Abbing, Mr. Anthony\n",
       "4           Sex                 male\n",
       "5           Age                 24.0\n",
       "6         SibSp                  0.0\n",
       "7         Parch                  0.0\n",
       "8        Ticket                 1601\n",
       "9          Fare                 8.05\n",
       "10        Cabin              B96 B98\n",
       "11     Embarked                    S"
      ]
     },
     "execution_count": 6,
     "metadata": {},
     "output_type": "execute_result"
    }
   ],
   "source": [
    "j1=[n for n in df.columns]\n",
    "j2=[]\n",
    "for m in range(len(modes)):\n",
    "    j2.append(modes[m])\n",
    "j3=pd.DataFrame(j1,columns=[\"column\"])\n",
    "j4=pd.DataFrame(j2,columns=[\"mod\"])\n",
    "dff=pd.concat([j3,j4],axis=1)\n",
    "dff"
   ]
  },
  {
   "cell_type": "markdown",
   "id": "fcc0761f",
   "metadata": {
    "papermill": {
     "duration": 0.019377,
     "end_time": "2023-12-24T11:16:30.065289",
     "exception": false,
     "start_time": "2023-12-24T11:16:30.045912",
     "status": "completed"
    },
    "tags": []
   },
   "source": [
    "**boş değerleri mod değerleri ile doldurmuş oldum. görüldüğü üzere yeni df datamızda boş değer yok.\n",
    "**"
   ]
  },
  {
   "cell_type": "code",
   "execution_count": 7,
   "id": "5fcb7e73",
   "metadata": {
    "execution": {
     "iopub.execute_input": "2023-12-24T11:16:30.105235Z",
     "iopub.status.busy": "2023-12-24T11:16:30.104902Z",
     "iopub.status.idle": "2023-12-24T11:16:30.119546Z",
     "shell.execute_reply": "2023-12-24T11:16:30.118559Z"
    },
    "papermill": {
     "duration": 0.037165,
     "end_time": "2023-12-24T11:16:30.121609",
     "exception": false,
     "start_time": "2023-12-24T11:16:30.084444",
     "status": "completed"
    },
    "tags": []
   },
   "outputs": [
    {
     "data": {
      "text/plain": [
       "PassengerId    0\n",
       "Survived       0\n",
       "Pclass         0\n",
       "Name           0\n",
       "Sex            0\n",
       "Age            0\n",
       "SibSp          0\n",
       "Parch          0\n",
       "Ticket         0\n",
       "Fare           0\n",
       "Cabin          0\n",
       "Embarked       0\n",
       "dtype: int64"
      ]
     },
     "execution_count": 7,
     "metadata": {},
     "output_type": "execute_result"
    }
   ],
   "source": [
    "i=0\n",
    "for c in dff.column:\n",
    "    df[c].fillna(dff[\"mod\"][i],inplace=True)\n",
    "    i+=1\n",
    "    \n",
    "df.isna().sum()"
   ]
  },
  {
   "cell_type": "code",
   "execution_count": 8,
   "id": "9065975d",
   "metadata": {
    "execution": {
     "iopub.execute_input": "2023-12-24T11:16:30.161677Z",
     "iopub.status.busy": "2023-12-24T11:16:30.161321Z",
     "iopub.status.idle": "2023-12-24T11:16:30.175079Z",
     "shell.execute_reply": "2023-12-24T11:16:30.174230Z"
    },
    "papermill": {
     "duration": 0.036048,
     "end_time": "2023-12-24T11:16:30.177110",
     "exception": false,
     "start_time": "2023-12-24T11:16:30.141062",
     "status": "completed"
    },
    "tags": []
   },
   "outputs": [
    {
     "data": {
      "text/plain": [
       "PassengerId    0\n",
       "Survived       0\n",
       "Pclass         0\n",
       "Name           0\n",
       "Sex            0\n",
       "Age            0\n",
       "SibSp          0\n",
       "Parch          0\n",
       "Ticket         0\n",
       "Fare           0\n",
       "Cabin          0\n",
       "Embarked       0\n",
       "dtype: int64"
      ]
     },
     "execution_count": 8,
     "metadata": {},
     "output_type": "execute_result"
    }
   ],
   "source": [
    "#yukarda yaptıklarımı yapmadan da bu şekilde kısaca yapabilirsiniz ama kendimi geliştirmek için öyle yaptım\n",
    "df.fillna(modes,inplace=True)\n",
    "df.isna().sum()"
   ]
  },
  {
   "cell_type": "markdown",
   "id": "207511b1",
   "metadata": {
    "papermill": {
     "duration": 0.019501,
     "end_time": "2023-12-24T11:16:30.268393",
     "exception": false,
     "start_time": "2023-12-24T11:16:30.248892",
     "status": "completed"
    },
    "tags": []
   },
   "source": [
    "**burda object sectıgım ıcın kategorık degıskenlerde gosterilir.\n",
    "**"
   ]
  },
  {
   "cell_type": "code",
   "execution_count": 9,
   "id": "e1e81756",
   "metadata": {
    "execution": {
     "iopub.execute_input": "2023-12-24T11:16:30.309139Z",
     "iopub.status.busy": "2023-12-24T11:16:30.308781Z",
     "iopub.status.idle": "2023-12-24T11:16:30.326587Z",
     "shell.execute_reply": "2023-12-24T11:16:30.325493Z"
    },
    "papermill": {
     "duration": 0.040791,
     "end_time": "2023-12-24T11:16:30.328781",
     "exception": false,
     "start_time": "2023-12-24T11:16:30.287990",
     "status": "completed"
    },
    "tags": []
   },
   "outputs": [
    {
     "name": "stdout",
     "output_type": "stream",
     "text": [
      "         count unique                      top freq\n",
      "Name       891    891  Braund, Mr. Owen Harris    1\n",
      "Sex        891      2                     male  577\n",
      "Ticket     891    681                   347082    7\n",
      "Cabin      891    147                  B96 B98  691\n",
      "Embarked   891      3                        S  646\n"
     ]
    }
   ],
   "source": [
    "print(df.describe(include=[object]).T)"
   ]
  },
  {
   "cell_type": "markdown",
   "id": "0b10922d",
   "metadata": {
    "papermill": {
     "duration": 0.019435,
     "end_time": "2023-12-24T11:16:30.369516",
     "exception": false,
     "start_time": "2023-12-24T11:16:30.350081",
     "status": "completed"
    },
    "tags": []
   },
   "source": [
    "**sadece numeric degerler gosterılır**"
   ]
  },
  {
   "cell_type": "code",
   "execution_count": 10,
   "id": "56fe895b",
   "metadata": {
    "execution": {
     "iopub.execute_input": "2023-12-24T11:16:30.410384Z",
     "iopub.status.busy": "2023-12-24T11:16:30.410028Z",
     "iopub.status.idle": "2023-12-24T11:16:30.442440Z",
     "shell.execute_reply": "2023-12-24T11:16:30.441545Z"
    },
    "papermill": {
     "duration": 0.055355,
     "end_time": "2023-12-24T11:16:30.444698",
     "exception": false,
     "start_time": "2023-12-24T11:16:30.389343",
     "status": "completed"
    },
    "tags": []
   },
   "outputs": [
    {
     "data": {
      "text/html": [
       "<div>\n",
       "<style scoped>\n",
       "    .dataframe tbody tr th:only-of-type {\n",
       "        vertical-align: middle;\n",
       "    }\n",
       "\n",
       "    .dataframe tbody tr th {\n",
       "        vertical-align: top;\n",
       "    }\n",
       "\n",
       "    .dataframe thead th {\n",
       "        text-align: right;\n",
       "    }\n",
       "</style>\n",
       "<table border=\"1\" class=\"dataframe\">\n",
       "  <thead>\n",
       "    <tr style=\"text-align: right;\">\n",
       "      <th></th>\n",
       "      <th>count</th>\n",
       "      <th>mean</th>\n",
       "      <th>std</th>\n",
       "      <th>min</th>\n",
       "      <th>25%</th>\n",
       "      <th>50%</th>\n",
       "      <th>75%</th>\n",
       "      <th>max</th>\n",
       "    </tr>\n",
       "  </thead>\n",
       "  <tbody>\n",
       "    <tr>\n",
       "      <th>PassengerId</th>\n",
       "      <td>891.0</td>\n",
       "      <td>446.000000</td>\n",
       "      <td>257.353842</td>\n",
       "      <td>1.00</td>\n",
       "      <td>223.5000</td>\n",
       "      <td>446.0000</td>\n",
       "      <td>668.5</td>\n",
       "      <td>891.0000</td>\n",
       "    </tr>\n",
       "    <tr>\n",
       "      <th>Survived</th>\n",
       "      <td>891.0</td>\n",
       "      <td>0.383838</td>\n",
       "      <td>0.486592</td>\n",
       "      <td>0.00</td>\n",
       "      <td>0.0000</td>\n",
       "      <td>0.0000</td>\n",
       "      <td>1.0</td>\n",
       "      <td>1.0000</td>\n",
       "    </tr>\n",
       "    <tr>\n",
       "      <th>Pclass</th>\n",
       "      <td>891.0</td>\n",
       "      <td>2.308642</td>\n",
       "      <td>0.836071</td>\n",
       "      <td>1.00</td>\n",
       "      <td>2.0000</td>\n",
       "      <td>3.0000</td>\n",
       "      <td>3.0</td>\n",
       "      <td>3.0000</td>\n",
       "    </tr>\n",
       "    <tr>\n",
       "      <th>Age</th>\n",
       "      <td>891.0</td>\n",
       "      <td>28.566970</td>\n",
       "      <td>13.199572</td>\n",
       "      <td>0.42</td>\n",
       "      <td>22.0000</td>\n",
       "      <td>24.0000</td>\n",
       "      <td>35.0</td>\n",
       "      <td>80.0000</td>\n",
       "    </tr>\n",
       "    <tr>\n",
       "      <th>SibSp</th>\n",
       "      <td>891.0</td>\n",
       "      <td>0.523008</td>\n",
       "      <td>1.102743</td>\n",
       "      <td>0.00</td>\n",
       "      <td>0.0000</td>\n",
       "      <td>0.0000</td>\n",
       "      <td>1.0</td>\n",
       "      <td>8.0000</td>\n",
       "    </tr>\n",
       "    <tr>\n",
       "      <th>Parch</th>\n",
       "      <td>891.0</td>\n",
       "      <td>0.381594</td>\n",
       "      <td>0.806057</td>\n",
       "      <td>0.00</td>\n",
       "      <td>0.0000</td>\n",
       "      <td>0.0000</td>\n",
       "      <td>0.0</td>\n",
       "      <td>6.0000</td>\n",
       "    </tr>\n",
       "    <tr>\n",
       "      <th>Fare</th>\n",
       "      <td>891.0</td>\n",
       "      <td>32.204208</td>\n",
       "      <td>49.693429</td>\n",
       "      <td>0.00</td>\n",
       "      <td>7.9104</td>\n",
       "      <td>14.4542</td>\n",
       "      <td>31.0</td>\n",
       "      <td>512.3292</td>\n",
       "    </tr>\n",
       "  </tbody>\n",
       "</table>\n",
       "</div>"
      ],
      "text/plain": [
       "             count        mean         std   min       25%       50%    75%  \\\n",
       "PassengerId  891.0  446.000000  257.353842  1.00  223.5000  446.0000  668.5   \n",
       "Survived     891.0    0.383838    0.486592  0.00    0.0000    0.0000    1.0   \n",
       "Pclass       891.0    2.308642    0.836071  1.00    2.0000    3.0000    3.0   \n",
       "Age          891.0   28.566970   13.199572  0.42   22.0000   24.0000   35.0   \n",
       "SibSp        891.0    0.523008    1.102743  0.00    0.0000    0.0000    1.0   \n",
       "Parch        891.0    0.381594    0.806057  0.00    0.0000    0.0000    0.0   \n",
       "Fare         891.0   32.204208   49.693429  0.00    7.9104   14.4542   31.0   \n",
       "\n",
       "                  max  \n",
       "PassengerId  891.0000  \n",
       "Survived       1.0000  \n",
       "Pclass         3.0000  \n",
       "Age           80.0000  \n",
       "SibSp          8.0000  \n",
       "Parch          6.0000  \n",
       "Fare         512.3292  "
      ]
     },
     "execution_count": 10,
     "metadata": {},
     "output_type": "execute_result"
    }
   ],
   "source": [
    "df.describe(include=(np.number)).T"
   ]
  },
  {
   "cell_type": "markdown",
   "id": "894f3909",
   "metadata": {
    "papermill": {
     "duration": 0.019812,
     "end_time": "2023-12-24T11:16:30.486370",
     "exception": false,
     "start_time": "2023-12-24T11:16:30.466558",
     "status": "completed"
    },
    "tags": []
   },
   "source": [
    "**her ne kadar odenen para(Fare) ortalaması 32 olsada ortalama degerlerden bazen uzak degerler olabılrı burda mesela \n",
    "cok az deger 200-300 arasın da ıken dıgerlerı 0-100 arasında toplanmıs.\n",
    "**"
   ]
  },
  {
   "cell_type": "code",
   "execution_count": 11,
   "id": "3c8a5926",
   "metadata": {
    "execution": {
     "iopub.execute_input": "2023-12-24T11:16:30.528226Z",
     "iopub.status.busy": "2023-12-24T11:16:30.527870Z",
     "iopub.status.idle": "2023-12-24T11:16:30.847214Z",
     "shell.execute_reply": "2023-12-24T11:16:30.846309Z"
    },
    "papermill": {
     "duration": 0.342612,
     "end_time": "2023-12-24T11:16:30.849321",
     "exception": false,
     "start_time": "2023-12-24T11:16:30.506709",
     "status": "completed"
    },
    "tags": []
   },
   "outputs": [
    {
     "data": {
      "text/plain": [
       "<Axes: >"
      ]
     },
     "execution_count": 11,
     "metadata": {},
     "output_type": "execute_result"
    },
    {
     "data": {
      "image/png": "[encoded data removed]",
      "text/plain": [
       "<Figure size 640x480 with 1 Axes>"
      ]
     },
     "metadata": {},
     "output_type": "display_data"
    }
   ],
   "source": [
    "df[\"Fare\"].hist()"
   ]
  },
  {
   "cell_type": "markdown",
   "id": "137315ce",
   "metadata": {
    "papermill": {
     "duration": 0.019654,
     "end_time": "2023-12-24T11:16:30.889103",
     "exception": false,
     "start_time": "2023-12-24T11:16:30.869449",
     "status": "completed"
    },
    "tags": []
   },
   "source": [
    "**aykırı degerlerden kurtulmak ıcın logarıtmık yontemı kullandık.**"
   ]
  },
  {
   "cell_type": "code",
   "execution_count": 12,
   "id": "be388e29",
   "metadata": {
    "execution": {
     "iopub.execute_input": "2023-12-24T11:16:30.930526Z",
     "iopub.status.busy": "2023-12-24T11:16:30.930166Z",
     "iopub.status.idle": "2023-12-24T11:16:31.225956Z",
     "shell.execute_reply": "2023-12-24T11:16:31.224946Z"
    },
    "papermill": {
     "duration": 0.319225,
     "end_time": "2023-12-24T11:16:31.228291",
     "exception": false,
     "start_time": "2023-12-24T11:16:30.909066",
     "status": "completed"
    },
    "tags": []
   },
   "outputs": [
    {
     "data": {
      "text/plain": [
       "<Axes: >"
      ]
     },
     "execution_count": 12,
     "metadata": {},
     "output_type": "execute_result"
    },
    {
     "data": {
      "image/png": "[encoded data removed]",
      "text/plain": [
       "<Figure size 640x480 with 1 Axes>"
      ]
     },
     "metadata": {},
     "output_type": "display_data"
    }
   ],
   "source": [
    "df[\"Fare\"]=np.log(df[\"Fare\"]+1)\n",
    "df[\"Fare\"].hist()"
   ]
  },
  {
   "cell_type": "markdown",
   "id": "7f529031",
   "metadata": {
    "papermill": {
     "duration": 0.020128,
     "end_time": "2023-12-24T11:16:31.269415",
     "exception": false,
     "start_time": "2023-12-24T11:16:31.249287",
     "status": "completed"
    },
    "tags": []
   },
   "source": [
    "kategorik değişkenleri numerik yaptık"
   ]
  },
  {
   "cell_type": "code",
   "execution_count": 13,
   "id": "43b4780c",
   "metadata": {
    "execution": {
     "iopub.execute_input": "2023-12-24T11:16:31.311767Z",
     "iopub.status.busy": "2023-12-24T11:16:31.311404Z",
     "iopub.status.idle": "2023-12-24T11:16:31.327103Z",
     "shell.execute_reply": "2023-12-24T11:16:31.326083Z"
    },
    "papermill": {
     "duration": 0.039536,
     "end_time": "2023-12-24T11:16:31.329175",
     "exception": false,
     "start_time": "2023-12-24T11:16:31.289639",
     "status": "completed"
    },
    "tags": []
   },
   "outputs": [
    {
     "data": {
      "text/plain": [
       "Index(['PassengerId', 'Survived', 'Name', 'Age', 'SibSp', 'Parch', 'Ticket',\n",
       "       'Fare', 'Cabin', 'Sex_female', 'Sex_male', 'Pclass_1', 'Pclass_2',\n",
       "       'Pclass_3', 'Embarked_C', 'Embarked_Q', 'Embarked_S'],\n",
       "      dtype='object')"
      ]
     },
     "execution_count": 13,
     "metadata": {},
     "output_type": "execute_result"
    }
   ],
   "source": [
    "df = pd.get_dummies(df, columns=[\"Sex\",\"Pclass\",\"Embarked\"],dtype=int)\n",
    "df.columns"
   ]
  },
  {
   "cell_type": "code",
   "execution_count": 14,
   "id": "f8780657",
   "metadata": {
    "execution": {
     "iopub.execute_input": "2023-12-24T11:16:31.373666Z",
     "iopub.status.busy": "2023-12-24T11:16:31.372821Z",
     "iopub.status.idle": "2023-12-24T11:16:31.388866Z",
     "shell.execute_reply": "2023-12-24T11:16:31.388013Z"
    },
    "papermill": {
     "duration": 0.040805,
     "end_time": "2023-12-24T11:16:31.390864",
     "exception": false,
     "start_time": "2023-12-24T11:16:31.350059",
     "status": "completed"
    },
    "tags": []
   },
   "outputs": [
    {
     "data": {
      "text/html": [
       "<div>\n",
       "<style scoped>\n",
       "    .dataframe tbody tr th:only-of-type {\n",
       "        vertical-align: middle;\n",
       "    }\n",
       "\n",
       "    .dataframe tbody tr th {\n",
       "        vertical-align: top;\n",
       "    }\n",
       "\n",
       "    .dataframe thead th {\n",
       "        text-align: right;\n",
       "    }\n",
       "</style>\n",
       "<table border=\"1\" class=\"dataframe\">\n",
       "  <thead>\n",
       "    <tr style=\"text-align: right;\">\n",
       "      <th></th>\n",
       "      <th>PassengerId</th>\n",
       "      <th>Survived</th>\n",
       "      <th>Name</th>\n",
       "      <th>Age</th>\n",
       "      <th>SibSp</th>\n",
       "      <th>Parch</th>\n",
       "      <th>Ticket</th>\n",
       "      <th>Fare</th>\n",
       "      <th>Cabin</th>\n",
       "      <th>Sex_female</th>\n",
       "      <th>Sex_male</th>\n",
       "      <th>Pclass_1</th>\n",
       "      <th>Pclass_2</th>\n",
       "      <th>Pclass_3</th>\n",
       "      <th>Embarked_C</th>\n",
       "      <th>Embarked_Q</th>\n",
       "      <th>Embarked_S</th>\n",
       "    </tr>\n",
       "  </thead>\n",
       "  <tbody>\n",
       "    <tr>\n",
       "      <th>0</th>\n",
       "      <td>1</td>\n",
       "      <td>0</td>\n",
       "      <td>Braund, Mr. Owen Harris</td>\n",
       "      <td>22.0</td>\n",
       "      <td>1</td>\n",
       "      <td>0</td>\n",
       "      <td>A/5 21171</td>\n",
       "      <td>2.110213</td>\n",
       "      <td>B96 B98</td>\n",
       "      <td>0</td>\n",
       "      <td>1</td>\n",
       "      <td>0</td>\n",
       "      <td>0</td>\n",
       "      <td>1</td>\n",
       "      <td>0</td>\n",
       "      <td>0</td>\n",
       "      <td>1</td>\n",
       "    </tr>\n",
       "    <tr>\n",
       "      <th>1</th>\n",
       "      <td>2</td>\n",
       "      <td>1</td>\n",
       "      <td>Cumings, Mrs. John Bradley (Florence Briggs Th...</td>\n",
       "      <td>38.0</td>\n",
       "      <td>1</td>\n",
       "      <td>0</td>\n",
       "      <td>PC 17599</td>\n",
       "      <td>4.280593</td>\n",
       "      <td>C85</td>\n",
       "      <td>1</td>\n",
       "      <td>0</td>\n",
       "      <td>1</td>\n",
       "      <td>0</td>\n",
       "      <td>0</td>\n",
       "      <td>1</td>\n",
       "      <td>0</td>\n",
       "      <td>0</td>\n",
       "    </tr>\n",
       "    <tr>\n",
       "      <th>2</th>\n",
       "      <td>3</td>\n",
       "      <td>1</td>\n",
       "      <td>Heikkinen, Miss. Laina</td>\n",
       "      <td>26.0</td>\n",
       "      <td>0</td>\n",
       "      <td>0</td>\n",
       "      <td>STON/O2. 3101282</td>\n",
       "      <td>2.188856</td>\n",
       "      <td>B96 B98</td>\n",
       "      <td>1</td>\n",
       "      <td>0</td>\n",
       "      <td>0</td>\n",
       "      <td>0</td>\n",
       "      <td>1</td>\n",
       "      <td>0</td>\n",
       "      <td>0</td>\n",
       "      <td>1</td>\n",
       "    </tr>\n",
       "    <tr>\n",
       "      <th>3</th>\n",
       "      <td>4</td>\n",
       "      <td>1</td>\n",
       "      <td>Futrelle, Mrs. Jacques Heath (Lily May Peel)</td>\n",
       "      <td>35.0</td>\n",
       "      <td>1</td>\n",
       "      <td>0</td>\n",
       "      <td>113803</td>\n",
       "      <td>3.990834</td>\n",
       "      <td>C123</td>\n",
       "      <td>1</td>\n",
       "      <td>0</td>\n",
       "      <td>1</td>\n",
       "      <td>0</td>\n",
       "      <td>0</td>\n",
       "      <td>0</td>\n",
       "      <td>0</td>\n",
       "      <td>1</td>\n",
       "    </tr>\n",
       "    <tr>\n",
       "      <th>4</th>\n",
       "      <td>5</td>\n",
       "      <td>0</td>\n",
       "      <td>Allen, Mr. William Henry</td>\n",
       "      <td>35.0</td>\n",
       "      <td>0</td>\n",
       "      <td>0</td>\n",
       "      <td>373450</td>\n",
       "      <td>2.202765</td>\n",
       "      <td>B96 B98</td>\n",
       "      <td>0</td>\n",
       "      <td>1</td>\n",
       "      <td>0</td>\n",
       "      <td>0</td>\n",
       "      <td>1</td>\n",
       "      <td>0</td>\n",
       "      <td>0</td>\n",
       "      <td>1</td>\n",
       "    </tr>\n",
       "  </tbody>\n",
       "</table>\n",
       "</div>"
      ],
      "text/plain": [
       "   PassengerId  Survived                                               Name  \\\n",
       "0            1         0                            Braund, Mr. Owen Harris   \n",
       "1            2         1  Cumings, Mrs. John Bradley (Florence Briggs Th...   \n",
       "2            3         1                             Heikkinen, Miss. Laina   \n",
       "3            4         1       Futrelle, Mrs. Jacques Heath (Lily May Peel)   \n",
       "4            5         0                           Allen, Mr. William Henry   \n",
       "\n",
       "    Age  SibSp  Parch            Ticket      Fare    Cabin  Sex_female  \\\n",
       "0  22.0      1      0         A/5 21171  2.110213  B96 B98           0   \n",
       "1  38.0      1      0          PC 17599  4.280593      C85           1   \n",
       "2  26.0      0      0  STON/O2. 3101282  2.188856  B96 B98           1   \n",
       "3  35.0      1      0            113803  3.990834     C123           1   \n",
       "4  35.0      0      0            373450  2.202765  B96 B98           0   \n",
       "\n",
       "   Sex_male  Pclass_1  Pclass_2  Pclass_3  Embarked_C  Embarked_Q  Embarked_S  \n",
       "0         1         0         0         1           0           0           1  \n",
       "1         0         1         0         0           1           0           0  \n",
       "2         0         0         0         1           0           0           1  \n",
       "3         0         1         0         0           0           0           1  \n",
       "4         1         0         0         1           0           0           1  "
      ]
     },
     "execution_count": 14,
     "metadata": {},
     "output_type": "execute_result"
    }
   ],
   "source": [
    "added_cols = ['Sex_male', 'Sex_female', 'Pclass_1', 'Pclass_2', 'Pclass_3', 'Embarked_C', 'Embarked_Q', 'Embarked_S']\n",
    "df.head()"
   ]
  },
  {
   "cell_type": "markdown",
   "id": "89b0de52",
   "metadata": {
    "papermill": {
     "duration": 0.021033,
     "end_time": "2023-12-24T11:16:31.432628",
     "exception": false,
     "start_time": "2023-12-24T11:16:31.411595",
     "status": "completed"
    },
    "tags": []
   },
   "source": [
    "**bagımlı degıskenlerımızı tensore atalım**"
   ]
  },
  {
   "cell_type": "code",
   "execution_count": 15,
   "id": "badc08ba",
   "metadata": {
    "execution": {
     "iopub.execute_input": "2023-12-24T11:16:31.476148Z",
     "iopub.status.busy": "2023-12-24T11:16:31.475822Z",
     "iopub.status.idle": "2023-12-24T11:16:34.973752Z",
     "shell.execute_reply": "2023-12-24T11:16:34.972759Z"
    },
    "papermill": {
     "duration": 3.522214,
     "end_time": "2023-12-24T11:16:34.976048",
     "exception": false,
     "start_time": "2023-12-24T11:16:31.453834",
     "status": "completed"
    },
    "tags": []
   },
   "outputs": [
    {
     "data": {
      "text/plain": [
       "tensor([0, 1, 1, 1, 0, 0, 0, 0, 1, 1, 1, 1, 0, 0, 0, 1, 0, 1, 0, 1, 0, 1, 1, 1,\n",
       "        0, 1, 0, 0, 1, 0, 0, 1, 1, 0, 0, 0, 1, 0, 0, 1, 0, 0, 0, 1, 1, 0, 0, 1,\n",
       "        0, 0, 0, 0, 1, 1, 0, 1, 1, 0, 1, 0, 0, 1, 0, 0, 0, 1, 1, 0, 1, 0, 0, 0,\n",
       "        0, 0, 1, 0, 0, 0, 1, 1, 0, 1, 1, 0, 1, 1, 0, 0, 1, 0, 0, 0, 0, 0, 0, 0,\n",
       "        0, 1, 1, 0, 0, 0, 0, 0, 0, 0, 1, 1, 0, 1, 0, 0, 0, 0, 0, 0, 0, 0, 0, 0,\n",
       "        0, 0, 0, 1, 0, 1, 0, 1, 1, 0, 0, 0, 0, 1, 0, 0, 1, 0, 0, 0, 0, 1, 1, 0,\n",
       "        0, 0, 1, 0, 0, 0, 0, 1, 0, 0, 0, 0, 1, 0, 0, 0, 0, 1, 0, 0, 0, 1, 1, 0,\n",
       "        0, 0, 0, 0, 1, 0, 0, 0, 0, 0, 0, 0, 0, 0, 0, 1, 1, 0, 1, 1, 0, 0, 1, 0,\n",
       "        1, 1, 1, 1, 0, 0, 1, 0, 0, 0, 0, 0, 1, 0, 0, 1, 1, 1, 0, 1, 0, 0, 0, 1,\n",
       "        1, 0, 1, 0, 1, 0, 0, 0, 1, 0, 1, 0, 0, 0, 1, 0, 0, 1, 0, 0, 0, 1, 0, 0,\n",
       "        0, 1, 0, 0, 0, 0, 0, 1, 1, 0, 0, 0, 0, 0, 0, 1, 1, 1, 1, 1, 0, 1, 0, 0,\n",
       "        0, 0, 0, 1, 1, 1, 0, 1, 1, 0, 1, 1, 0, 0, 0, 1, 0, 0, 0, 1, 0, 0, 1, 0,\n",
       "        1, 1, 1, 1, 0, 0, 0, 0, 0, 0, 1, 1, 1, 1, 0, 1, 0, 1, 1, 1, 0, 1, 1, 1,\n",
       "        0, 0, 0, 1, 1, 0, 1, 1, 0, 0, 1, 1, 0, 1, 0, 1, 1, 1, 1, 0, 0, 0, 1, 0,\n",
       "        0, 1, 1, 0, 1, 1, 0, 0, 0, 1, 1, 1, 1, 0, 0, 0, 0, 0, 0, 0, 1, 0, 1, 1,\n",
       "        0, 0, 0, 0, 0, 0, 1, 1, 1, 1, 1, 0, 0, 0, 0, 1, 1, 0, 0, 0, 1, 1, 0, 1,\n",
       "        0, 0, 0, 1, 0, 1, 1, 1, 0, 1, 1, 0, 0, 0, 0, 1, 1, 0, 0, 0, 0, 0, 0, 1,\n",
       "        0, 0, 0, 0, 1, 0, 1, 0, 1, 1, 0, 0, 0, 0, 0, 0, 0, 0, 1, 1, 0, 1, 1, 1,\n",
       "        1, 0, 0, 1, 0, 1, 0, 0, 1, 0, 0, 1, 1, 1, 1, 1, 1, 1, 0, 0, 0, 1, 0, 1,\n",
       "        0, 1, 1, 0, 1, 0, 0, 0, 0, 0, 0, 0, 0, 1, 0, 0, 1, 1, 0, 0, 0, 0, 0, 1,\n",
       "        0, 0, 0, 1, 1, 0, 1, 0, 0, 1, 0, 0, 0, 0, 0, 0, 1, 0, 0, 0, 0, 0, 0, 0,\n",
       "        1, 0, 1, 1, 0, 1, 1, 0, 1, 1, 0, 0, 1, 0, 1, 0, 1, 0, 0, 1, 0, 0, 1, 0,\n",
       "        0, 0, 1, 0, 0, 1, 0, 1, 0, 1, 0, 1, 1, 0, 0, 1, 0, 0, 1, 1, 0, 1, 1, 0,\n",
       "        0, 1, 1, 0, 1, 0, 1, 1, 0, 0, 0, 0, 0, 0, 0, 0, 0, 1, 1, 1, 1, 1, 0, 0,\n",
       "        1, 1, 0, 1, 1, 1, 0, 0, 0, 1, 0, 1, 0, 0, 0, 1, 0, 0, 0, 0, 1, 0, 0, 1,\n",
       "        1, 0, 0, 0, 1, 0, 0, 1, 1, 1, 0, 0, 1, 0, 0, 1, 0, 0, 1, 0, 0, 1, 1, 0,\n",
       "        0, 0, 0, 1, 0, 0, 1, 0, 1, 0, 0, 1, 0, 0, 0, 0, 0, 1, 0, 1, 1, 1, 0, 1,\n",
       "        0, 1, 0, 1, 0, 1, 0, 0, 0, 0, 0, 0, 1, 0, 0, 0, 1, 0, 0, 0, 0, 1, 1, 0,\n",
       "        0, 1, 0, 0, 0, 1, 0, 1, 0, 1, 0, 0, 0, 0, 0, 0, 0, 1, 1, 1, 1, 0, 0, 0,\n",
       "        0, 1, 0, 0, 1, 1, 0, 0, 0, 0, 1, 1, 1, 1, 1, 0, 1, 0, 0, 0, 1, 1, 0, 0,\n",
       "        1, 0, 0, 0, 1, 0, 1, 1, 0, 0, 1, 0, 0, 0, 0, 0, 0, 1, 0, 0, 1, 0, 1, 0,\n",
       "        1, 0, 0, 1, 0, 0, 1, 1, 0, 0, 1, 1, 0, 0, 0, 1, 0, 0, 1, 1, 0, 1, 0, 0,\n",
       "        0, 0, 0, 0, 0, 0, 1, 0, 0, 1, 0, 1, 1, 1, 0, 0, 0, 0, 1, 0, 1, 0, 0, 0,\n",
       "        0, 0, 0, 0, 1, 1, 0, 0, 0, 1, 1, 1, 1, 0, 0, 0, 0, 1, 0, 0, 0, 0, 0, 0,\n",
       "        0, 0, 0, 0, 1, 1, 0, 1, 0, 0, 0, 1, 1, 1, 1, 1, 0, 0, 0, 1, 0, 0, 1, 1,\n",
       "        0, 0, 1, 0, 0, 0, 0, 0, 0, 1, 0, 0, 0, 1, 0, 1, 1, 1, 1, 0, 0, 0, 1, 0,\n",
       "        0, 1, 1, 0, 0, 1, 0, 1, 0, 0, 1, 1, 0, 0, 0, 1, 1, 0, 0, 0, 0, 0, 0, 1,\n",
       "        0, 1, 0])"
      ]
     },
     "execution_count": 15,
     "metadata": {},
     "output_type": "execute_result"
    }
   ],
   "source": [
    "import torch\n",
    "from torch import tensor\n",
    "\n",
    "t_dep = tensor(df.Survived)\n",
    "t_dep"
   ]
  },
  {
   "cell_type": "markdown",
   "id": "b47b458b",
   "metadata": {
    "papermill": {
     "duration": 0.023041,
     "end_time": "2023-12-24T11:16:35.021077",
     "exception": false,
     "start_time": "2023-12-24T11:16:34.998036",
     "status": "completed"
    },
    "tags": []
   },
   "source": [
    "**bagımsız degıskenlerımızı tensore atalım**"
   ]
  },
  {
   "cell_type": "code",
   "execution_count": 16,
   "id": "272fd3e0",
   "metadata": {
    "execution": {
     "iopub.execute_input": "2023-12-24T11:16:35.068211Z",
     "iopub.status.busy": "2023-12-24T11:16:35.067032Z",
     "iopub.status.idle": "2023-12-24T11:16:35.133523Z",
     "shell.execute_reply": "2023-12-24T11:16:35.132583Z"
    },
    "papermill": {
     "duration": 0.092133,
     "end_time": "2023-12-24T11:16:35.135794",
     "exception": false,
     "start_time": "2023-12-24T11:16:35.043661",
     "status": "completed"
    },
    "tags": []
   },
   "outputs": [
    {
     "data": {
      "text/plain": [
       "tensor([[22.,  1.,  0.,  ...,  0.,  0.,  1.],\n",
       "        [38.,  1.,  0.,  ...,  1.,  0.,  0.],\n",
       "        [26.,  0.,  0.,  ...,  0.,  0.,  1.],\n",
       "        ...,\n",
       "        [24.,  1.,  2.,  ...,  0.,  0.,  1.],\n",
       "        [26.,  0.,  0.,  ...,  1.,  0.,  0.],\n",
       "        [32.,  0.,  0.,  ...,  0.,  1.,  0.]])"
      ]
     },
     "execution_count": 16,
     "metadata": {},
     "output_type": "execute_result"
    }
   ],
   "source": [
    "indep_cols = ['Age', 'SibSp', 'Parch', 'Fare'] + added_cols\n",
    "\n",
    "t_indep = tensor(df[indep_cols].values, dtype=torch.float)\n",
    "t_indep"
   ]
  },
  {
   "cell_type": "markdown",
   "id": "652a1b20",
   "metadata": {
    "papermill": {
     "duration": 0.021559,
     "end_time": "2023-12-24T11:16:35.179693",
     "exception": false,
     "start_time": "2023-12-24T11:16:35.158134",
     "status": "completed"
    },
    "tags": []
   },
   "source": [
    "**bagımsız degısken tensorlerımızın seklıne bakalım ve 12 tane sutunlu oldugundan demekkı bunlarla carpılacak katsayıların sayısıda 12 tane olmalıdır.**"
   ]
  },
  {
   "cell_type": "code",
   "execution_count": 17,
   "id": "1cebb66c",
   "metadata": {
    "execution": {
     "iopub.execute_input": "2023-12-24T11:16:35.225352Z",
     "iopub.status.busy": "2023-12-24T11:16:35.224471Z",
     "iopub.status.idle": "2023-12-24T11:16:35.230573Z",
     "shell.execute_reply": "2023-12-24T11:16:35.229685Z"
    },
    "papermill": {
     "duration": 0.031425,
     "end_time": "2023-12-24T11:16:35.232576",
     "exception": false,
     "start_time": "2023-12-24T11:16:35.201151",
     "status": "completed"
    },
    "tags": []
   },
   "outputs": [
    {
     "data": {
      "text/plain": [
       "torch.Size([891, 12])"
      ]
     },
     "execution_count": 17,
     "metadata": {},
     "output_type": "execute_result"
    }
   ],
   "source": [
    "t_indep.shape"
   ]
  },
  {
   "cell_type": "markdown",
   "id": "26c36b56",
   "metadata": {
    "papermill": {
     "duration": 0.021411,
     "end_time": "2023-12-24T11:16:35.275604",
     "exception": false,
     "start_time": "2023-12-24T11:16:35.254193",
     "status": "completed"
    },
    "tags": []
   },
   "source": [
    "**gradient baslangıcı ıcın bır tamamen rasgele 12 tane elemandan olusan bır vektor yaptık**"
   ]
  },
  {
   "cell_type": "code",
   "execution_count": 18,
   "id": "f3e82a25",
   "metadata": {
    "execution": {
     "iopub.execute_input": "2023-12-24T11:16:35.320242Z",
     "iopub.status.busy": "2023-12-24T11:16:35.319542Z",
     "iopub.status.idle": "2023-12-24T11:16:35.332912Z",
     "shell.execute_reply": "2023-12-24T11:16:35.332027Z"
    },
    "papermill": {
     "duration": 0.03838,
     "end_time": "2023-12-24T11:16:35.335390",
     "exception": false,
     "start_time": "2023-12-24T11:16:35.297010",
     "status": "completed"
    },
    "tags": []
   },
   "outputs": [
    {
     "data": {
      "text/plain": [
       "tensor([ 0.3432, -0.2406,  0.2860, -0.4922,  0.4869,  0.3499, -0.4774, -0.3862,\n",
       "        -0.4323, -0.4863,  0.2497,  0.2374])"
      ]
     },
     "execution_count": 18,
     "metadata": {},
     "output_type": "execute_result"
    }
   ],
   "source": [
    "random_numbers_01 = torch.rand(12)\n",
    "katsayilar = (random_numbers_01 - 0.5) \n",
    "katsayilar"
   ]
  },
  {
   "cell_type": "markdown",
   "id": "a96e4b53",
   "metadata": {
    "papermill": {
     "duration": 0.021191,
     "end_time": "2023-12-24T11:16:35.380792",
     "exception": false,
     "start_time": "2023-12-24T11:16:35.359601",
     "status": "completed"
    },
    "tags": []
   },
   "source": [
    "**bu sekılde pytorch ıle bır normlızasyon yaptık cunku Age bır aykırı deger olarak davranıyordu.**"
   ]
  },
  {
   "cell_type": "code",
   "execution_count": 19,
   "id": "32a6b745",
   "metadata": {
    "execution": {
     "iopub.execute_input": "2023-12-24T11:16:35.425700Z",
     "iopub.status.busy": "2023-12-24T11:16:35.424977Z",
     "iopub.status.idle": "2023-12-24T11:16:35.437881Z",
     "shell.execute_reply": "2023-12-24T11:16:35.436986Z"
    },
    "papermill": {
     "duration": 0.037705,
     "end_time": "2023-12-24T11:16:35.439800",
     "exception": false,
     "start_time": "2023-12-24T11:16:35.402095",
     "status": "completed"
    },
    "tags": []
   },
   "outputs": [
    {
     "data": {
      "text/plain": [
       "tensor([[0.2750, 0.1250, 0.0000,  ..., 0.0000, 0.0000, 1.0000],\n",
       "        [0.4750, 0.1250, 0.0000,  ..., 1.0000, 0.0000, 0.0000],\n",
       "        [0.3250, 0.0000, 0.0000,  ..., 0.0000, 0.0000, 1.0000],\n",
       "        ...,\n",
       "        [0.3000, 0.1250, 0.3333,  ..., 0.0000, 0.0000, 1.0000],\n",
       "        [0.3250, 0.0000, 0.0000,  ..., 1.0000, 0.0000, 0.0000],\n",
       "        [0.4000, 0.0000, 0.0000,  ..., 0.0000, 1.0000, 0.0000]])"
      ]
     },
     "execution_count": 19,
     "metadata": {},
     "output_type": "execute_result"
    }
   ],
   "source": [
    "vals,indices = t_indep.max(dim=0)\n",
    "t_indep = t_indep / vals\n",
    "t_indep"
   ]
  },
  {
   "cell_type": "markdown",
   "id": "44f1f3a0",
   "metadata": {
    "papermill": {
     "duration": 0.021289,
     "end_time": "2023-12-24T11:16:35.482783",
     "exception": false,
     "start_time": "2023-12-24T11:16:35.461494",
     "status": "completed"
    },
    "tags": []
   },
   "source": [
    "**katsayılarımı bagımsız degıskenler ıle dolu tensorumuzle carpalım\n",
    "**"
   ]
  },
  {
   "cell_type": "code",
   "execution_count": 20,
   "id": "9b51d114",
   "metadata": {
    "execution": {
     "iopub.execute_input": "2023-12-24T11:16:35.527787Z",
     "iopub.status.busy": "2023-12-24T11:16:35.527144Z",
     "iopub.status.idle": "2023-12-24T11:16:35.534619Z",
     "shell.execute_reply": "2023-12-24T11:16:35.533741Z"
    },
    "papermill": {
     "duration": 0.032363,
     "end_time": "2023-12-24T11:16:35.536693",
     "exception": false,
     "start_time": "2023-12-24T11:16:35.504330",
     "status": "completed"
    },
    "tags": []
   },
   "outputs": [
    {
     "data": {
      "text/plain": [
       "tensor([[ 0.0944, -0.0301,  0.0000,  ..., -0.0000,  0.0000,  0.2374],\n",
       "        [ 0.1630, -0.0301,  0.0000,  ..., -0.4863,  0.0000,  0.0000],\n",
       "        [ 0.1115, -0.0000,  0.0000,  ..., -0.0000,  0.0000,  0.2374],\n",
       "        ...,\n",
       "        [ 0.1030, -0.0301,  0.0953,  ..., -0.0000,  0.0000,  0.2374],\n",
       "        [ 0.1115, -0.0000,  0.0000,  ..., -0.4863,  0.0000,  0.0000],\n",
       "        [ 0.1373, -0.0000,  0.0000,  ..., -0.0000,  0.2497,  0.0000]])"
      ]
     },
     "execution_count": 20,
     "metadata": {},
     "output_type": "execute_result"
    }
   ],
   "source": [
    "katsayilar*t_indep"
   ]
  },
  {
   "cell_type": "markdown",
   "id": "7f693a9f",
   "metadata": {
    "papermill": {
     "duration": 0.021975,
     "end_time": "2023-12-24T11:16:35.580660",
     "exception": false,
     "start_time": "2023-12-24T11:16:35.558685",
     "status": "completed"
    },
    "tags": []
   },
   "source": [
    "**sum() burada carpım sonucu olan tensordekı her satırı tek tek toplar ve bu bızım ıcın 891 tane tahmın degerı olur.**"
   ]
  },
  {
   "cell_type": "code",
   "execution_count": 21,
   "id": "cf0a6d76",
   "metadata": {
    "execution": {
     "iopub.execute_input": "2023-12-24T11:16:35.626328Z",
     "iopub.status.busy": "2023-12-24T11:16:35.625478Z",
     "iopub.status.idle": "2023-12-24T11:16:35.630059Z",
     "shell.execute_reply": "2023-12-24T11:16:35.629231Z"
    },
    "papermill": {
     "duration": 0.0293,
     "end_time": "2023-12-24T11:16:35.631954",
     "exception": false,
     "start_time": "2023-12-24T11:16:35.602654",
     "status": "completed"
    },
    "tags": []
   },
   "outputs": [],
   "source": [
    "def cal_preds(katsayilar,t_indep):\n",
    "    preds = (t_indep*katsayilar).sum(axis=1)\n",
    "    return preds"
   ]
  },
  {
   "cell_type": "code",
   "execution_count": 22,
   "id": "c5e4da79",
   "metadata": {
    "execution": {
     "iopub.execute_input": "2023-12-24T11:16:35.676842Z",
     "iopub.status.busy": "2023-12-24T11:16:35.676105Z",
     "iopub.status.idle": "2023-12-24T11:16:35.681197Z",
     "shell.execute_reply": "2023-12-24T11:16:35.680465Z"
    },
    "papermill": {
     "duration": 0.029596,
     "end_time": "2023-12-24T11:16:35.683122",
     "exception": false,
     "start_time": "2023-12-24T11:16:35.653526",
     "status": "completed"
    },
    "tags": []
   },
   "outputs": [],
   "source": [
    "def fx(katsayilar, t_indep):\n",
    "    preds = (t_indep*katsayilar).sum(axis=1)\n",
    "    return preds"
   ]
  },
  {
   "cell_type": "code",
   "execution_count": 23,
   "id": "587f4ec9",
   "metadata": {
    "execution": {
     "iopub.execute_input": "2023-12-24T11:16:35.727948Z",
     "iopub.status.busy": "2023-12-24T11:16:35.727315Z",
     "iopub.status.idle": "2023-12-24T11:16:35.742443Z",
     "shell.execute_reply": "2023-12-24T11:16:35.741604Z"
    },
    "papermill": {
     "duration": 0.039939,
     "end_time": "2023-12-24T11:16:35.744430",
     "exception": false,
     "start_time": "2023-12-24T11:16:35.704491",
     "status": "completed"
    },
    "tags": []
   },
   "outputs": [
    {
     "data": {
      "text/plain": [
       "tensor([ 1.8984e-01, -8.1849e-01,  9.3918e-02, -8.4780e-02,  2.6839e-01,\n",
       "         2.2994e-01,  1.6560e-01,  1.3928e-02,  1.6934e-01, -7.6359e-01,\n",
       "        -3.6870e-02,  9.7194e-02,  2.0404e-01,  3.9356e-01,  4.3066e-02,\n",
       "         2.1366e-01, -2.8447e-02,  2.3294e-01,  2.5697e-02, -6.3194e-01,\n",
       "         2.2834e-01,  2.7585e-01,  5.8037e-02,  8.3265e-02, -9.7290e-02,\n",
       "         2.5204e-01, -4.9499e-01, -1.0629e-01,  9.7969e-02,  2.2256e-01,\n",
       "        -5.7007e-01, -9.3481e-01,  9.9125e-02,  4.2864e-01, -7.3549e-01,\n",
       "         8.3830e-02, -4.9503e-01,  2.0833e-01, -6.0153e-02, -7.3629e-01,\n",
       "         1.1127e-01,  4.3129e-02, -5.0117e-01, -7.4029e-01,  7.6519e-02,\n",
       "         2.2120e-01,  1.5598e-01,  9.9125e-02, -6.3514e-01, -2.9239e-02,\n",
       "        -4.2927e-02,  2.1054e-01, -7.7702e-01,  3.5557e-02, -4.7707e-01,\n",
       "         6.6105e-02,  9.8630e-02, -4.7572e-01,  2.2992e-02, -2.1043e-02,\n",
       "        -5.0361e-01, -7.3662e-02,  5.9935e-02,  4.8936e-02, -6.3872e-01,\n",
       "        -5.3107e-01,  1.3295e-01,  1.9881e-01,  3.0337e-02,  1.6446e-01,\n",
       "         2.8278e-01, -1.3655e-01,  8.8228e-02, -5.6623e-01,  1.0970e-01,\n",
       "         2.2906e-01,  2.2256e-01,  2.2120e-01,  1.6878e-01,  7.8586e-02,\n",
       "         2.0475e-01,  2.3093e-01,  9.8788e-02,  6.1500e-02,  8.1470e-02,\n",
       "        -1.6411e-02,  1.9231e-01,  2.2120e-01, -2.2609e-01,  2.2120e-01,\n",
       "         2.4265e-01,  2.0577e-01,  8.8398e-02,  2.2653e-01,  3.7865e-01,\n",
       "         2.2120e-01, -4.5414e-01, -6.5897e-01,  1.4405e-01,  1.9397e-01,\n",
       "         1.0276e-01,  2.2256e-01,  4.0727e-02,  2.5471e-01,  2.1791e-01,\n",
       "         2.3972e-01,  7.4936e-02,  2.2363e-01,  2.8262e-01, -1.4224e-02,\n",
       "         1.3536e-01, -7.5252e-01,  2.1262e-01,  2.2876e-02, -7.1174e-01,\n",
       "         2.0943e-01,  4.3557e-01,  1.8867e-01, -7.6123e-01, -1.3539e-01,\n",
       "         2.8068e-02,  2.2120e-01, -5.4727e-01,  1.3245e-01,  1.8230e-01,\n",
       "        -6.0791e-01,  2.3608e-01,  2.2954e-01, -6.9667e-01,  3.2126e-01,\n",
       "        -4.6256e-01,  2.1327e-01,  1.1040e-01,  3.5557e-02,  2.3723e-01,\n",
       "        -5.0583e-01,  2.5998e-02,  6.0759e-02,  1.7732e-01, -7.1971e-01,\n",
       "        -5.9028e-01,  7.8320e-02,  5.1381e-03,  2.2420e-01,  2.1614e-01,\n",
       "         1.5086e-01,  2.3632e-01, -5.2437e-02,  3.3012e-01,  3.1017e-01,\n",
       "         3.5150e-01, -1.5812e-01,  3.5634e-01,  3.4490e-01,  2.2790e-01,\n",
       "        -5.3638e-01,  6.4955e-02,  2.4694e-01,  2.1604e-01, -8.6050e-02,\n",
       "         3.0449e-01,  1.5048e-01,  2.3221e-01,  1.8600e-01, -6.8667e-02,\n",
       "         1.8386e-01, -5.6938e-02,  2.4338e-01,  9.0101e-02,  9.2537e-02,\n",
       "         2.2928e-01, -1.9867e-02, -1.9959e-02,  2.0943e-01, -5.0921e-01,\n",
       "         2.1478e-01,  9.4000e-02, -6.6681e-01,  2.5869e-01,  4.4641e-01,\n",
       "        -2.2301e-01, -5.0156e-01,  3.1321e-02,  3.8991e-02,  2.0140e-02,\n",
       "         3.9722e-02,  1.9018e-02,  1.7838e-01,  2.7229e-01,  2.7404e-01,\n",
       "         1.3031e-01,  2.1149e-01,  3.4436e-02,  1.0865e-01, -6.8987e-01,\n",
       "        -7.5887e-01,  2.3608e-01,  3.4307e-01,  9.9125e-02,  9.5986e-02,\n",
       "         2.2664e-01, -8.6050e-02,  2.7896e-01, -4.0275e-01,  1.9546e-01,\n",
       "         1.8897e-02,  1.7642e-01, -5.5564e-01,  6.4804e-02, -5.7860e-01,\n",
       "         2.3044e-01,  1.0753e-01,  2.1992e-01,  2.5869e-01,  2.0600e-01,\n",
       "        -8.8464e-01,  9.8208e-02,  2.2542e-01, -8.1943e-01,  2.7420e-01,\n",
       "         1.8688e-01,  2.4582e-01,  3.3703e-01,  2.2256e-01,  2.4036e-02,\n",
       "         2.0203e-01,  2.2701e-01,  2.1348e-01,  2.0720e-01, -4.2959e-02,\n",
       "        -1.1992e-01,  2.4508e-01,  3.8033e-01, -1.2280e-01,  2.4846e-01,\n",
       "         8.8724e-02,  2.3687e-01,  7.0168e-02,  2.2701e-01,  2.7575e-01,\n",
       "        -7.1177e-01,  1.9018e-02,  2.6991e-01,  2.2112e-01, -4.6925e-01,\n",
       "         3.1921e-02,  9.0965e-02,  1.8331e-01,  1.0923e-01,  2.7977e-01,\n",
       "         2.2850e-01,  1.0465e-01,  2.5131e-01,  1.6668e-01,  1.8534e-01,\n",
       "        -5.6883e-01, -8.5666e-01, -1.1407e-01, -9.5588e-01,  2.0340e-01,\n",
       "         2.3608e-01,  5.5807e-03,  1.4129e-01,  4.1846e-01,  9.9125e-02,\n",
       "         2.9994e-01, -4.3166e-03,  1.9784e-01,  8.9038e-03, -1.2777e-01,\n",
       "         7.6482e-02,  3.9922e-01,  1.8651e-01, -5.4053e-01,  9.9125e-02,\n",
       "         5.5230e-03,  1.7699e-01,  4.4108e-01, -6.9972e-03,  8.1705e-02,\n",
       "         4.1198e-01,  2.4009e-01,  1.7516e-01,  1.9975e-01,  8.9882e-02,\n",
       "        -4.6908e-01,  2.3522e-01,  2.1398e-01,  3.1017e-01,  9.0545e-02,\n",
       "        -1.2401e-01, -9.1909e-01, -4.3859e-01,  7.7561e-02,  2.2256e-01,\n",
       "        -6.3872e-01, -4.9717e-01, -2.1276e-01,  7.7724e-02, -7.8665e-01,\n",
       "         9.9125e-02,  9.5529e-02,  3.7348e-01,  1.1196e-01,  2.2120e-01,\n",
       "        -8.0436e-02, -8.8292e-01, -9.4162e-01, -5.4085e-01, -8.0527e-01,\n",
       "        -8.6046e-01, -9.4099e-01,  7.0362e-02,  2.3972e-01,  2.7952e-01,\n",
       "         9.4546e-02,  1.4107e-02,  3.5621e-01, -6.4871e-02, -8.1179e-01,\n",
       "         2.1992e-01,  2.3543e-01,  1.3770e-01,  4.4892e-02, -8.6050e-02,\n",
       "        -8.4720e-01,  3.9756e-01,  1.4747e-01,  6.3531e-02, -8.1907e-01,\n",
       "        -4.1430e-02,  1.7513e-01,  6.0062e-02,  6.8226e-02, -2.0389e-01,\n",
       "         2.2256e-01,  8.8693e-03, -8.2510e-01,  3.1129e-01,  1.5620e-01,\n",
       "         1.0436e-01, -2.2180e-01,  2.5011e-01,  2.3723e-01,  2.8443e-01,\n",
       "         9.5986e-02,  1.6463e-01,  3.9766e-03,  9.9446e-02,  2.9326e-01,\n",
       "         2.0728e-01,  6.7193e-02, -5.1604e-01,  1.3775e-01, -4.9499e-01,\n",
       "         2.2664e-01, -6.5518e-02,  1.5605e-01,  9.7969e-02,  9.7969e-02,\n",
       "         3.5889e-01, -5.5608e-01, -5.4392e-01,  2.7763e-01,  1.5598e-01,\n",
       "         2.5424e-01, -7.2832e-01, -6.3198e-01,  9.9125e-02, -8.4627e-01,\n",
       "        -7.1779e-01,  1.8024e-01,  1.9975e-01, -7.7030e-01, -1.1874e-01,\n",
       "        -8.8961e-01,  8.2961e-02, -6.8834e-01, -4.7309e-01,  2.0218e-01,\n",
       "        -8.6203e-01, -6.9132e-01,  2.5662e-01, -8.3159e-02,  2.2256e-01,\n",
       "         7.5357e-02, -6.3944e-02,  1.4747e-01,  2.3627e-01, -6.5192e-01,\n",
       "         8.8332e-02,  2.1058e-01,  1.7930e-01, -9.1896e-01,  1.2669e-01,\n",
       "         2.1487e-01,  1.1600e-01,  2.7553e-01,  2.4417e-01,  1.1514e-01,\n",
       "         2.8665e-01,  2.2978e-01,  2.7167e-02,  1.5926e-01,  6.1916e-02,\n",
       "         2.1012e-01,  3.3969e-01,  1.3331e-01,  2.1076e-01, -4.2959e-02,\n",
       "         2.2256e-01,  2.4456e-01, -1.2215e-01,  4.4108e-01,  3.0810e-01,\n",
       "         8.4241e-02,  8.7669e-02,  1.6559e-01,  2.5869e-01,  3.8918e-02,\n",
       "        -5.0117e-01,  2.2336e-01,  2.4419e-01,  7.7069e-02,  1.4587e-01,\n",
       "         2.2850e-01,  3.1267e-02,  2.2737e-02,  2.3608e-01,  2.5552e-01,\n",
       "         1.0545e-01,  3.9766e-03,  9.1328e-02,  1.9967e-01,  1.1255e-01,\n",
       "        -1.4301e-01, -9.5637e-04,  1.5171e-01,  2.4227e-01,  2.7849e-01,\n",
       "         1.5115e-01,  1.9232e-01,  1.9784e-01,  1.1315e-01,  2.2066e-01,\n",
       "         1.0995e-02,  6.6392e-02,  1.3119e-01, -7.9703e-01,  1.9785e-01,\n",
       "         2.9294e-01,  1.2486e-01, -6.1306e-01, -6.5172e-01,  2.2120e-01,\n",
       "        -4.7972e-01,  2.6418e-01, -1.3015e-01,  2.2304e-01,  2.3608e-01,\n",
       "         1.9125e-01,  2.6410e-01,  1.5855e-01,  3.3591e-01,  2.2120e-01,\n",
       "         2.9050e-01,  4.4108e-01,  2.2557e-01,  2.3631e-01, -8.1526e-01,\n",
       "         2.2850e-01,  2.7610e-01,  1.4311e-01, -6.3637e-01,  6.1445e-02,\n",
       "         3.6689e-02,  2.1012e-01,  2.2185e-01,  2.1737e-01,  7.2443e-03,\n",
       "        -2.9623e-02,  4.4108e-01,  3.3274e-01,  2.3918e-01, -7.5639e-01,\n",
       "        -4.2959e-02, -1.2579e-01, -4.9811e-01,  2.4694e-01,  1.2519e-01,\n",
       "         1.2486e-01,  2.1563e-01,  2.1072e-01, -4.8160e-01,  2.0833e-01,\n",
       "        -5.4475e-01, -7.5712e-01,  1.7577e-01, -1.1409e-01,  2.2345e-01,\n",
       "         1.8600e-01,  8.6255e-02,  1.0022e-01,  1.2764e-01, -1.7413e-01,\n",
       "        -8.0037e-01,  1.7815e-01,  8.8291e-02,  1.6302e-01,  8.3957e-02,\n",
       "         2.5753e-01,  2.2120e-01,  1.4053e-01, -7.3568e-01,  2.2618e-01,\n",
       "         1.6804e-01,  1.5440e-01,  1.5281e-01,  6.5588e-02,  2.5688e-01,\n",
       "        -1.2014e-01,  2.1398e-01, -4.9499e-01, -6.9895e-01, -4.9503e-01,\n",
       "         3.0687e-01,  2.2304e-01, -7.6557e-02,  2.8665e-01,  2.2511e-01,\n",
       "        -3.2600e-02, -4.9503e-01, -5.0746e-01, -6.1892e-01,  1.0482e-01,\n",
       "         6.5878e-02,  1.7838e-01, -8.5397e-01,  1.7876e-01, -7.3342e-01,\n",
       "         2.2396e-02, -1.0536e-01, -9.6783e-02,  1.8539e-01, -6.6129e-01,\n",
       "         2.6148e-01, -7.3431e-03, -4.9549e-01,  2.0907e-01,  1.0367e-01,\n",
       "        -6.8064e-01,  1.9402e-01,  2.3537e-01, -5.0357e-01,  7.8095e-02,\n",
       "         2.5131e-01, -7.3009e-01, -8.0229e-01, -5.1436e-02,  4.9678e-02,\n",
       "         2.3608e-01,  2.9120e-01,  2.4734e-01,  2.2120e-01,  8.4241e-02,\n",
       "         8.0430e-02,  2.0111e-01,  2.2606e-01, -4.9503e-01,  2.5725e-01,\n",
       "         4.1148e-01, -3.5239e-02,  1.4024e-01,  9.9125e-02,  1.8688e-01,\n",
       "         1.5731e-01,  1.3889e-01, -7.1599e-02, -7.1179e-01,  2.5662e-01,\n",
       "         5.5176e-02, -8.0098e-01,  3.0985e-01, -6.1555e-01, -5.0810e-01,\n",
       "        -6.3773e-02,  3.2108e-01, -5.4767e-01,  2.1262e-01,  2.2120e-01,\n",
       "         2.7689e-01, -7.6570e-01,  3.2717e-01,  1.9447e-01,  2.0684e-01,\n",
       "         2.0966e-01,  2.6006e-02,  5.0218e-01, -4.9499e-01, -6.1688e-01,\n",
       "         2.8833e-02,  2.2256e-01,  5.2449e-02,  3.0700e-01, -5.8824e-01,\n",
       "         1.9499e-01,  2.4830e-01,  9.0594e-02, -6.5878e-01, -1.1599e-01,\n",
       "         2.5660e-01,  2.3044e-01,  1.9018e-02,  2.3608e-01,  2.6839e-01,\n",
       "         3.8962e-02,  2.3977e-01,  1.2557e-02, -8.5098e-02,  2.5704e-01,\n",
       "        -5.6194e-01,  8.3009e-02, -5.5060e-01,  2.1006e-01,  1.5815e-01,\n",
       "         2.3202e-01,  3.9049e-01, -1.4458e-01,  2.3114e-01,  2.3623e-01,\n",
       "         3.1923e-01,  3.4623e-01, -6.1168e-01,  3.4982e-01, -6.6573e-02,\n",
       "         1.1315e-01,  2.5662e-01,  2.2804e-01,  2.7699e-01,  1.4094e-01,\n",
       "         2.0577e-01, -8.4627e-01, -9.6603e-02,  7.5377e-02, -8.1526e-01,\n",
       "        -6.4436e-01,  2.0111e-01, -5.2034e-01,  2.2568e-01,  8.4434e-02,\n",
       "         2.2256e-01,  7.5410e-02,  2.0506e-01,  9.8414e-02,  8.2956e-02,\n",
       "         4.0938e-02,  2.2256e-01,  1.0101e-01,  2.2865e-01, -5.0642e-01,\n",
       "         1.4535e-02, -4.2634e-01,  1.8977e-01,  2.7766e-01,  1.7506e-01,\n",
       "         7.5258e-02,  2.3723e-01,  2.2363e-01,  3.0271e-01, -1.3035e-01,\n",
       "         9.9424e-02,  3.6639e-02,  4.4580e-01,  2.6298e-01,  4.4108e-01,\n",
       "         1.9789e-01,  2.2335e-01,  4.4255e-02,  2.9030e-01, -7.6696e-01,\n",
       "         9.5707e-02, -7.0437e-01,  1.9441e-01, -8.1731e-03,  3.2218e-01,\n",
       "        -5.0895e-01, -1.2897e-02,  1.8315e-01,  1.9771e-01, -2.0067e-01,\n",
       "         2.9529e-02, -7.1433e-01,  7.5377e-02, -4.9070e-01,  2.4273e-01,\n",
       "         3.5030e-01,  3.0700e-01,  9.9275e-02, -6.2112e-01,  3.0199e-01,\n",
       "        -9.9507e-01,  1.3624e-01, -6.5975e-01,  2.4045e-01,  2.0143e-01,\n",
       "         2.4550e-01,  1.8331e-01,  1.6627e-01, -1.9223e-01, -5.3107e-01,\n",
       "        -8.2019e-01,  8.8291e-02,  1.0957e-01,  2.3106e-01,  3.5307e-01,\n",
       "         2.0332e-01, -8.7919e-01,  1.2437e-01,  1.8606e-01,  2.6224e-01,\n",
       "        -3.5407e-03,  1.7028e-01,  2.7585e-01,  3.4449e-01,  1.7859e-02,\n",
       "         1.9888e-01, -4.1605e-03,  9.9238e-02,  1.5536e-01,  5.9548e-02,\n",
       "        -1.8828e-01, -6.1999e-01,  4.4108e-01,  2.2865e-01,  2.2865e-01,\n",
       "         1.9032e-01,  1.9263e-01, -8.1893e-01,  2.2256e-01,  2.2256e-01,\n",
       "         7.8986e-02,  2.5765e-02, -9.2812e-01,  1.4094e-01,  2.5233e-01,\n",
       "         2.2746e-01,  1.3715e-01,  1.2173e-01, -1.6461e-02,  2.6611e-01,\n",
       "        -1.4730e-02,  1.6026e-01,  2.4809e-01,  2.1827e-01,  1.4192e-01,\n",
       "         1.4242e-01,  2.4061e-01,  2.1614e-01,  2.6410e-01, -1.0120e-01,\n",
       "         1.7876e-01,  3.0263e-01, -5.1219e-01, -4.8626e-02,  1.8931e-01,\n",
       "        -4.5958e-02, -6.6602e-01,  1.2701e-01,  1.2273e-01,  2.5284e-01,\n",
       "         2.0948e-01,  3.2589e-01,  2.5307e-01, -4.9499e-01,  2.9512e-01,\n",
       "         1.9812e-01,  2.3608e-01, -2.8665e-02,  2.3620e-01, -8.0545e-02,\n",
       "        -6.7918e-01, -1.6749e-01,  1.0044e-01,  2.0808e-01,  2.3473e-01,\n",
       "         2.3279e-01,  6.3485e-02, -2.7071e-03,  1.1928e-01, -6.2532e-01,\n",
       "         2.3608e-01,  1.4683e-01, -2.2301e-01, -6.4649e-01,  2.2685e-01,\n",
       "         2.9730e-01,  6.0381e-02,  1.0894e-01, -4.6929e-01,  4.6965e-02,\n",
       "         2.7585e-01,  9.1085e-02, -1.8919e-02, -5.5998e-01,  2.4404e-01,\n",
       "         2.5366e-01,  4.1417e-01,  6.0935e-02,  2.9730e-01, -9.3360e-02,\n",
       "         2.3121e-01,  2.0494e-01,  2.9565e-01, -1.1823e-01,  2.4909e-01,\n",
       "         3.4982e-01,  8.1048e-02, -5.2192e-01,  3.1806e-01,  7.4676e-02,\n",
       "        -8.1643e-03,  2.2891e-01,  4.0988e-01,  1.1339e-01, -6.4377e-02,\n",
       "         2.4365e-01,  7.5377e-02, -5.7286e-01,  2.3608e-01,  2.9299e-02,\n",
       "        -7.5038e-01,  1.2400e-01, -4.9503e-01,  2.1864e-01,  1.9331e-01,\n",
       "        -7.7852e-01,  2.0317e-01,  2.2120e-01,  1.0970e-01, -6.4397e-01,\n",
       "         2.0514e-01,  2.1414e-01, -7.5846e-01, -4.4200e-01,  1.8600e-01,\n",
       "         3.0290e-01, -8.6050e-02, -4.5398e-01,  2.2780e-01, -8.9593e-01,\n",
       "         1.0145e-02,  4.3814e-01, -7.3238e-01, -6.5507e-02,  9.9908e-02,\n",
       "         9.5589e-02, -8.2565e-02,  2.0412e-01, -5.6001e-01, -4.9503e-01,\n",
       "         1.9355e-01,  1.9893e-01,  5.6091e-02, -2.2301e-01,  2.3294e-01,\n",
       "         1.7321e-01, -6.4964e-01,  6.8990e-02,  2.0948e-01,  1.2987e-01,\n",
       "         2.3114e-01,  1.5175e-02,  2.4712e-01,  3.1200e-01, -6.8639e-01,\n",
       "        -6.7055e-01,  1.8976e-01,  2.0111e-01,  2.2256e-01, -6.7551e-01,\n",
       "         9.6151e-02,  2.6117e-01,  5.6651e-02,  2.6562e-01,  2.3473e-01,\n",
       "         3.0434e-01,  2.4582e-01, -7.9423e-02,  7.1126e-02, -6.3616e-01,\n",
       "         2.7040e-01])"
      ]
     },
     "execution_count": 23,
     "metadata": {},
     "output_type": "execute_result"
    }
   ],
   "source": [
    "preds=fx(katsayilar, t_indep,)\n",
    "preds"
   ]
  },
  {
   "cell_type": "code",
   "execution_count": 24,
   "id": "98523a26",
   "metadata": {
    "execution": {
     "iopub.execute_input": "2023-12-24T11:16:35.789733Z",
     "iopub.status.busy": "2023-12-24T11:16:35.789375Z",
     "iopub.status.idle": "2023-12-24T11:16:35.793968Z",
     "shell.execute_reply": "2023-12-24T11:16:35.793089Z"
    },
    "papermill": {
     "duration": 0.029633,
     "end_time": "2023-12-24T11:16:35.795986",
     "exception": false,
     "start_time": "2023-12-24T11:16:35.766353",
     "status": "completed"
    },
    "tags": []
   },
   "outputs": [],
   "source": [
    "def cal_loss(katsayilar, t_indep):\n",
    "    preds=fx(katsayilar, t_indep)\n",
    "    return torch.abs(t_dep-preds).mean()"
   ]
  },
  {
   "cell_type": "code",
   "execution_count": 25,
   "id": "52d6ca2f",
   "metadata": {
    "execution": {
     "iopub.execute_input": "2023-12-24T11:16:35.841251Z",
     "iopub.status.busy": "2023-12-24T11:16:35.840932Z",
     "iopub.status.idle": "2023-12-24T11:16:35.847365Z",
     "shell.execute_reply": "2023-12-24T11:16:35.846546Z"
    },
    "papermill": {
     "duration": 0.031464,
     "end_time": "2023-12-24T11:16:35.849420",
     "exception": false,
     "start_time": "2023-12-24T11:16:35.817956",
     "status": "completed"
    },
    "tags": []
   },
   "outputs": [
    {
     "data": {
      "text/plain": [
       "tensor([ 0.3432, -0.2406,  0.2860, -0.4922,  0.4869,  0.3499, -0.4774, -0.3862,\n",
       "        -0.4323, -0.4863,  0.2497,  0.2374], requires_grad=True)"
      ]
     },
     "execution_count": 25,
     "metadata": {},
     "output_type": "execute_result"
    }
   ],
   "source": [
    "katsayilar.requires_grad_()"
   ]
  },
  {
   "cell_type": "code",
   "execution_count": 26,
   "id": "0a286704",
   "metadata": {
    "execution": {
     "iopub.execute_input": "2023-12-24T11:16:35.895528Z",
     "iopub.status.busy": "2023-12-24T11:16:35.894823Z",
     "iopub.status.idle": "2023-12-24T11:16:35.904281Z",
     "shell.execute_reply": "2023-12-24T11:16:35.903405Z"
    },
    "papermill": {
     "duration": 0.034618,
     "end_time": "2023-12-24T11:16:35.906305",
     "exception": false,
     "start_time": "2023-12-24T11:16:35.871687",
     "status": "completed"
    },
    "tags": []
   },
   "outputs": [
    {
     "data": {
      "text/plain": [
       "tensor(0.5931, grad_fn=<MeanBackward0>)"
      ]
     },
     "execution_count": 26,
     "metadata": {},
     "output_type": "execute_result"
    }
   ],
   "source": [
    "loss=cal_loss(katsayilar, t_indep)\n",
    "loss"
   ]
  },
  {
   "cell_type": "code",
   "execution_count": 27,
   "id": "b6706628",
   "metadata": {
    "execution": {
     "iopub.execute_input": "2023-12-24T11:16:35.952133Z",
     "iopub.status.busy": "2023-12-24T11:16:35.951805Z",
     "iopub.status.idle": "2023-12-24T11:16:36.021473Z",
     "shell.execute_reply": "2023-12-24T11:16:36.020656Z"
    },
    "papermill": {
     "duration": 0.095344,
     "end_time": "2023-12-24T11:16:36.023898",
     "exception": false,
     "start_time": "2023-12-24T11:16:35.928554",
     "status": "completed"
    },
    "tags": []
   },
   "outputs": [],
   "source": [
    "loss.backward()"
   ]
  },
  {
   "cell_type": "code",
   "execution_count": 28,
   "id": "a2b3ab1a",
   "metadata": {
    "execution": {
     "iopub.execute_input": "2023-12-24T11:16:36.072254Z",
     "iopub.status.busy": "2023-12-24T11:16:36.071438Z",
     "iopub.status.idle": "2023-12-24T11:16:36.078057Z",
     "shell.execute_reply": "2023-12-24T11:16:36.077236Z"
    },
    "papermill": {
     "duration": 0.033047,
     "end_time": "2023-12-24T11:16:36.079970",
     "exception": false,
     "start_time": "2023-12-24T11:16:36.046923",
     "status": "completed"
    },
    "tags": []
   },
   "outputs": [
    {
     "data": {
      "text/plain": [
       "tensor([ 0.0115, -0.0323, -0.0254, -0.0776,  0.2099, -0.2379, -0.1324, -0.0067,\n",
       "         0.1111, -0.1886,  0.0101,  0.1504])"
      ]
     },
     "execution_count": 28,
     "metadata": {},
     "output_type": "execute_result"
    }
   ],
   "source": [
    "katsayilar.grad"
   ]
  },
  {
   "cell_type": "code",
   "execution_count": 29,
   "id": "0776a1d6",
   "metadata": {
    "execution": {
     "iopub.execute_input": "2023-12-24T11:16:36.128366Z",
     "iopub.status.busy": "2023-12-24T11:16:36.127772Z",
     "iopub.status.idle": "2023-12-24T11:16:36.135367Z",
     "shell.execute_reply": "2023-12-24T11:16:36.134512Z"
    },
    "papermill": {
     "duration": 0.034242,
     "end_time": "2023-12-24T11:16:36.137363",
     "exception": false,
     "start_time": "2023-12-24T11:16:36.103121",
     "status": "completed"
    },
    "tags": []
   },
   "outputs": [
    {
     "data": {
      "text/plain": [
       "tensor([ 0.0229, -0.0645, -0.0509, -0.1552,  0.4198, -0.4759, -0.2649, -0.0135,\n",
       "         0.2222, -0.3771,  0.0202,  0.3008])"
      ]
     },
     "execution_count": 29,
     "metadata": {},
     "output_type": "execute_result"
    }
   ],
   "source": [
    "loss = cal_loss(katsayilar, t_indep)\n",
    "loss.backward()\n",
    "katsayilar.grad"
   ]
  },
  {
   "cell_type": "code",
   "execution_count": 30,
   "id": "921f3e78",
   "metadata": {
    "execution": {
     "iopub.execute_input": "2023-12-24T11:16:36.184377Z",
     "iopub.status.busy": "2023-12-24T11:16:36.184023Z",
     "iopub.status.idle": "2023-12-24T11:16:36.192339Z",
     "shell.execute_reply": "2023-12-24T11:16:36.191487Z"
    },
    "papermill": {
     "duration": 0.034084,
     "end_time": "2023-12-24T11:16:36.194248",
     "exception": false,
     "start_time": "2023-12-24T11:16:36.160164",
     "status": "completed"
    },
    "tags": []
   },
   "outputs": [
    {
     "name": "stdout",
     "output_type": "stream",
     "text": [
      "tensor(0.5362)\n"
     ]
    }
   ],
   "source": [
    "loss = cal_loss(katsayilar, t_indep)\n",
    "loss.backward()\n",
    "with torch.no_grad():\n",
    "    katsayilar.sub_(katsayilar.grad * 0.1)\n",
    "    katsayilar.grad.zero_()\n",
    "    print(cal_loss(katsayilar, t_indep))"
   ]
  },
  {
   "cell_type": "code",
   "execution_count": 31,
   "id": "681671e1",
   "metadata": {
    "execution": {
     "iopub.execute_input": "2023-12-24T11:16:36.240744Z",
     "iopub.status.busy": "2023-12-24T11:16:36.240392Z",
     "iopub.status.idle": "2023-12-24T11:16:38.939021Z",
     "shell.execute_reply": "2023-12-24T11:16:38.938047Z"
    },
    "papermill": {
     "duration": 2.724902,
     "end_time": "2023-12-24T11:16:38.941625",
     "exception": false,
     "start_time": "2023-12-24T11:16:36.216723",
     "status": "completed"
    },
    "tags": []
   },
   "outputs": [
    {
     "name": "stderr",
     "output_type": "stream",
     "text": [
      "/opt/conda/lib/python3.10/site-packages/scipy/__init__.py:146: UserWarning: A NumPy version >=1.16.5 and <1.23.0 is required for this version of SciPy (detected version 1.24.3\n",
      "  warnings.warn(f\"A NumPy version >={np_minversion} and <{np_maxversion}\"\n"
     ]
    }
   ],
   "source": [
    "from fastai.data.transforms import RandomSplitter\n",
    "trn_split,val_split=RandomSplitter(seed=42)(df)"
   ]
  },
  {
   "cell_type": "markdown",
   "id": "1093396d",
   "metadata": {
    "papermill": {
     "duration": 0.022914,
     "end_time": "2023-12-24T11:16:38.989680",
     "exception": false,
     "start_time": "2023-12-24T11:16:38.966766",
     "status": "completed"
    },
    "tags": []
   },
   "source": [
    "**trn_split ve val_split rasgele bir index listesi dondurur.**"
   ]
  },
  {
   "cell_type": "code",
   "execution_count": 32,
   "id": "6427ad00",
   "metadata": {
    "execution": {
     "iopub.execute_input": "2023-12-24T11:16:39.037444Z",
     "iopub.status.busy": "2023-12-24T11:16:39.036914Z",
     "iopub.status.idle": "2023-12-24T11:16:39.043354Z",
     "shell.execute_reply": "2023-12-24T11:16:39.042476Z"
    },
    "papermill": {
     "duration": 0.032869,
     "end_time": "2023-12-24T11:16:39.045456",
     "exception": false,
     "start_time": "2023-12-24T11:16:39.012587",
     "status": "completed"
    },
    "tags": []
   },
   "outputs": [
    {
     "data": {
      "text/plain": [
       "(#713) [788,525,821,253,374,98,215,313,281,305...]"
      ]
     },
     "execution_count": 32,
     "metadata": {},
     "output_type": "execute_result"
    }
   ],
   "source": [
    "trn_split"
   ]
  },
  {
   "cell_type": "code",
   "execution_count": 33,
   "id": "f9355fcc",
   "metadata": {
    "execution": {
     "iopub.execute_input": "2023-12-24T11:16:39.094195Z",
     "iopub.status.busy": "2023-12-24T11:16:39.093827Z",
     "iopub.status.idle": "2023-12-24T11:16:39.109055Z",
     "shell.execute_reply": "2023-12-24T11:16:39.108118Z"
    },
    "papermill": {
     "duration": 0.041859,
     "end_time": "2023-12-24T11:16:39.110983",
     "exception": false,
     "start_time": "2023-12-24T11:16:39.069124",
     "status": "completed"
    },
    "tags": []
   },
   "outputs": [
    {
     "data": {
      "text/plain": [
       "(713,\n",
       " 713,\n",
       " tensor([[0.0125, 0.1250, 0.3333,  ..., 0.0000, 0.0000, 1.0000],\n",
       "         [0.5063, 0.0000, 0.0000,  ..., 0.0000, 1.0000, 0.0000],\n",
       "         [0.3375, 0.0000, 0.0000,  ..., 0.0000, 0.0000, 1.0000],\n",
       "         ...,\n",
       "         [0.3000, 0.0000, 0.0000,  ..., 0.0000, 1.0000, 0.0000],\n",
       "         [0.2125, 0.1250, 0.1667,  ..., 1.0000, 0.0000, 0.0000],\n",
       "         [0.4500, 0.0000, 0.0000,  ..., 0.0000, 0.0000, 1.0000]]),\n",
       " tensor([[0.3000, 0.0000, 0.0000,  ..., 0.0000, 1.0000, 0.0000],\n",
       "         [0.3000, 0.0000, 0.0000,  ..., 0.0000, 1.0000, 0.0000],\n",
       "         [0.3000, 0.0000, 0.0000,  ..., 1.0000, 0.0000, 0.0000],\n",
       "         ...,\n",
       "         [0.4500, 0.0000, 0.3333,  ..., 0.0000, 0.0000, 1.0000],\n",
       "         [0.3000, 0.0000, 0.0000,  ..., 0.0000, 0.0000, 1.0000],\n",
       "         [0.1125, 0.1250, 0.1667,  ..., 0.0000, 0.0000, 1.0000]]))"
      ]
     },
     "execution_count": 33,
     "metadata": {},
     "output_type": "execute_result"
    }
   ],
   "source": [
    "trn_indep,val_indep = t_indep[trn_split],t_indep[val_split]\n",
    "trn_dep,val_dep = t_dep[trn_split],t_dep[val_split]\n",
    "len(trn_indep),len(trn_indep),trn_indep,val_indep"
   ]
  },
  {
   "cell_type": "markdown",
   "id": "78481c76",
   "metadata": {
    "papermill": {
     "duration": 0.023468,
     "end_time": "2023-12-24T11:16:39.158663",
     "exception": false,
     "start_time": "2023-12-24T11:16:39.135195",
     "status": "completed"
    },
    "tags": []
   },
   "source": [
    "sub_  iki tensoru birbirinden çıkarmaya çalışır."
   ]
  },
  {
   "cell_type": "code",
   "execution_count": 34,
   "id": "eb32b29c",
   "metadata": {
    "execution": {
     "iopub.execute_input": "2023-12-24T11:16:39.208279Z",
     "iopub.status.busy": "2023-12-24T11:16:39.207618Z",
     "iopub.status.idle": "2023-12-24T11:16:39.212379Z",
     "shell.execute_reply": "2023-12-24T11:16:39.211479Z"
    },
    "papermill": {
     "duration": 0.031687,
     "end_time": "2023-12-24T11:16:39.214291",
     "exception": false,
     "start_time": "2023-12-24T11:16:39.182604",
     "status": "completed"
    },
    "tags": []
   },
   "outputs": [],
   "source": [
    "def update_coeffs(katsayilar, lr):\n",
    "    katsayilar.sub_(katsayilar.grad * lr)\n",
    "    katsayilar.grad.zero_()"
   ]
  },
  {
   "cell_type": "code",
   "execution_count": 35,
   "id": "6a85a8c7",
   "metadata": {
    "execution": {
     "iopub.execute_input": "2023-12-24T11:16:39.263676Z",
     "iopub.status.busy": "2023-12-24T11:16:39.263317Z",
     "iopub.status.idle": "2023-12-24T11:16:39.268469Z",
     "shell.execute_reply": "2023-12-24T11:16:39.267556Z"
    },
    "papermill": {
     "duration": 0.032613,
     "end_time": "2023-12-24T11:16:39.270494",
     "exception": false,
     "start_time": "2023-12-24T11:16:39.237881",
     "status": "completed"
    },
    "tags": []
   },
   "outputs": [],
   "source": [
    "def one_epoch(katsayilar, lr):\n",
    "    loss = cal_loss(katsayilar, t_indep)\n",
    "    loss.backward()\n",
    "    with torch.no_grad(): update_coeffs(katsayilar, lr)\n",
    "    print(f\"loss: {loss:.3f}\", end=\"; \")"
   ]
  },
  {
   "cell_type": "code",
   "execution_count": 36,
   "id": "576496b0",
   "metadata": {
    "execution": {
     "iopub.execute_input": "2023-12-24T11:16:39.319438Z",
     "iopub.status.busy": "2023-12-24T11:16:39.319068Z",
     "iopub.status.idle": "2023-12-24T11:16:39.324967Z",
     "shell.execute_reply": "2023-12-24T11:16:39.324104Z"
    },
    "papermill": {
     "duration": 0.032758,
     "end_time": "2023-12-24T11:16:39.326947",
     "exception": false,
     "start_time": "2023-12-24T11:16:39.294189",
     "status": "completed"
    },
    "tags": []
   },
   "outputs": [
    {
     "data": {
      "text/plain": [
       "12"
      ]
     },
     "execution_count": 36,
     "metadata": {},
     "output_type": "execute_result"
    }
   ],
   "source": [
    "n_coeff = t_indep.shape[1]\n",
    "n_coeff"
   ]
  },
  {
   "cell_type": "code",
   "execution_count": 37,
   "id": "f5e2a138",
   "metadata": {
    "execution": {
     "iopub.execute_input": "2023-12-24T11:16:39.378684Z",
     "iopub.status.busy": "2023-12-24T11:16:39.378273Z",
     "iopub.status.idle": "2023-12-24T11:16:39.383218Z",
     "shell.execute_reply": "2023-12-24T11:16:39.382289Z"
    },
    "papermill": {
     "duration": 0.034082,
     "end_time": "2023-12-24T11:16:39.385200",
     "exception": false,
     "start_time": "2023-12-24T11:16:39.351118",
     "status": "completed"
    },
    "tags": []
   },
   "outputs": [],
   "source": [
    "def init_coeffs(): return (torch.rand(n_coeff)-0.5).requires_grad_()"
   ]
  },
  {
   "cell_type": "code",
   "execution_count": 38,
   "id": "8745e159",
   "metadata": {
    "execution": {
     "iopub.execute_input": "2023-12-24T11:16:39.434931Z",
     "iopub.status.busy": "2023-12-24T11:16:39.434527Z",
     "iopub.status.idle": "2023-12-24T11:16:39.439884Z",
     "shell.execute_reply": "2023-12-24T11:16:39.438965Z"
    },
    "papermill": {
     "duration": 0.03296,
     "end_time": "2023-12-24T11:16:39.441984",
     "exception": false,
     "start_time": "2023-12-24T11:16:39.409024",
     "status": "completed"
    },
    "tags": []
   },
   "outputs": [],
   "source": [
    "def train_model(epochs=200, lr=0.05):\n",
    "    torch.manual_seed(442)\n",
    "    katsayilar = init_coeffs()\n",
    "    for i in range(epochs): one_epoch(katsayilar, lr=lr)\n",
    "    return katsayilar"
   ]
  },
  {
   "cell_type": "code",
   "execution_count": 39,
   "id": "d47361fa",
   "metadata": {
    "execution": {
     "iopub.execute_input": "2023-12-24T11:16:39.492069Z",
     "iopub.status.busy": "2023-12-24T11:16:39.491193Z",
     "iopub.status.idle": "2023-12-24T11:16:39.543146Z",
     "shell.execute_reply": "2023-12-24T11:16:39.542186Z"
    },
    "papermill": {
     "duration": 0.079832,
     "end_time": "2023-12-24T11:16:39.545916",
     "exception": false,
     "start_time": "2023-12-24T11:16:39.466084",
     "status": "completed"
    },
    "tags": []
   },
   "outputs": [
    {
     "name": "stdout",
     "output_type": "stream",
     "text": [
      "loss: 0.538; loss: 0.529; loss: 0.520; loss: 0.512; loss: 0.505; loss: 0.498; loss: 0.491; loss: 0.485; loss: 0.479; loss: 0.473; loss: 0.467; loss: 0.461; loss: 0.455; loss: 0.450; loss: 0.444; loss: 0.438; loss: 0.433; loss: 0.427; loss: 0.422; loss: 0.416; loss: 0.411; loss: 0.405; loss: 0.400; loss: 0.394; loss: 0.389; loss: 0.384; loss: 0.379; loss: 0.373; loss: 0.368; loss: 0.363; loss: 0.359; loss: 0.354; loss: 0.350; loss: 0.346; loss: 0.343; loss: 0.339; loss: 0.336; loss: 0.333; loss: 0.330; loss: 0.326; loss: 0.323; loss: 0.321; loss: 0.318; loss: 0.315; loss: 0.313; loss: 0.310; loss: 0.308; loss: 0.306; loss: 0.303; loss: 0.301; loss: 0.300; loss: 0.298; loss: 0.296; loss: 0.294; loss: 0.293; loss: 0.291; loss: 0.290; loss: 0.288; loss: 0.287; loss: 0.285; loss: 0.284; loss: 0.282; loss: 0.281; loss: 0.280; loss: 0.279; loss: 0.277; loss: 0.276; loss: 0.274; loss: 0.273; loss: 0.272; loss: 0.271; loss: 0.269; loss: 0.268; loss: 0.267; loss: 0.266; loss: 0.265; loss: 0.264; loss: 0.263; loss: 0.262; loss: 0.261; loss: 0.260; loss: 0.260; loss: 0.259; loss: 0.258; loss: 0.257; loss: 0.257; loss: 0.256; loss: 0.255; loss: 0.254; loss: 0.253; loss: 0.253; loss: 0.253; loss: 0.251; loss: 0.251; loss: 0.250; loss: 0.250; loss: 0.249; loss: 0.249; loss: 0.248; loss: 0.248; loss: 0.247; loss: 0.247; loss: 0.246; loss: 0.246; loss: 0.245; loss: 0.245; loss: 0.244; loss: 0.243; loss: 0.242; loss: 0.242; loss: 0.241; loss: 0.241; loss: 0.240; loss: 0.240; loss: 0.239; loss: 0.239; loss: 0.238; loss: 0.238; loss: 0.238; loss: 0.238; loss: 0.237; loss: 0.237; loss: 0.236; loss: 0.236; loss: 0.235; loss: 0.235; loss: 0.234; loss: 0.235; loss: 0.234; loss: 0.234; loss: 0.233; loss: 0.234; loss: 0.233; loss: 0.233; loss: 0.232; loss: 0.233; loss: 0.232; loss: 0.233; loss: 0.232; loss: 0.232; loss: 0.231; loss: 0.232; loss: 0.231; loss: 0.232; loss: 0.231; loss: 0.232; loss: 0.231; loss: 0.231; loss: 0.231; loss: 0.231; loss: 0.231; loss: 0.231; loss: 0.230; loss: 0.231; loss: 0.230; loss: 0.231; loss: 0.230; loss: 0.231; loss: 0.230; loss: 0.231; loss: 0.230; loss: 0.232; loss: 0.230; loss: 0.231; loss: 0.230; loss: 0.231; loss: 0.230; loss: 0.231; loss: 0.230; loss: 0.231; loss: 0.230; loss: 0.231; loss: 0.230; loss: 0.233; loss: 0.229; loss: 0.231; loss: 0.230; loss: 0.232; loss: 0.229; loss: 0.231; loss: 0.230; loss: 0.233; loss: 0.229; loss: 0.231; loss: 0.230; loss: 0.234; loss: 0.229; loss: 0.232; loss: 0.229; loss: 0.232; loss: 0.230; loss: 0.234; loss: 0.229; loss: 0.232; loss: 0.229; loss: 0.233; loss: 0.229; loss: 0.234; loss: 0.229; loss: 0.232; "
     ]
    },
    {
     "data": {
      "text/plain": [
       "tensor([-0.0970, -0.0470,  0.0865, -0.0621, -0.5829,  0.3796,  0.5171,  0.4853,\n",
       "         0.4533,  0.1720,  0.1807,  0.1557], requires_grad=True)"
      ]
     },
     "execution_count": 39,
     "metadata": {},
     "output_type": "execute_result"
    }
   ],
   "source": [
    "loss = train_model(200, lr=0.05)\n",
    "loss"
   ]
  },
  {
   "cell_type": "code",
   "execution_count": 40,
   "id": "fea3b625",
   "metadata": {
    "execution": {
     "iopub.execute_input": "2023-12-24T11:16:39.596106Z",
     "iopub.status.busy": "2023-12-24T11:16:39.595306Z",
     "iopub.status.idle": "2023-12-24T11:16:39.605478Z",
     "shell.execute_reply": "2023-12-24T11:16:39.604574Z"
    },
    "papermill": {
     "duration": 0.037511,
     "end_time": "2023-12-24T11:16:39.607519",
     "exception": false,
     "start_time": "2023-12-24T11:16:39.570008",
     "status": "completed"
    },
    "tags": []
   },
   "outputs": [
    {
     "data": {
      "text/plain": [
       "{'Age': tensor(0.3398),\n",
       " 'SibSp': tensor(-0.2310),\n",
       " 'Parch': tensor(0.2937),\n",
       " 'Fare': tensor(-0.4689),\n",
       " 'Sex_male': tensor(0.4239),\n",
       " 'Sex_female': tensor(0.4213),\n",
       " 'Pclass_1': tensor(-0.4377),\n",
       " 'Pclass_2': tensor(-0.3842),\n",
       " 'Pclass_3': tensor(-0.4657),\n",
       " 'Embarked_C': tensor(-0.4297),\n",
       " 'Embarked_Q': tensor(0.2466),\n",
       " 'Embarked_S': tensor(0.1923)}"
      ]
     },
     "execution_count": 40,
     "metadata": {},
     "output_type": "execute_result"
    }
   ],
   "source": [
    "def show_coeffs(): return dict(zip(indep_cols, katsayilar.requires_grad_(False)))\n",
    "show_coeffs()"
   ]
  },
  {
   "cell_type": "code",
   "execution_count": 41,
   "id": "cf17f622",
   "metadata": {
    "execution": {
     "iopub.execute_input": "2023-12-24T11:16:39.657585Z",
     "iopub.status.busy": "2023-12-24T11:16:39.656844Z",
     "iopub.status.idle": "2023-12-24T11:16:39.665347Z",
     "shell.execute_reply": "2023-12-24T11:16:39.664431Z"
    },
    "papermill": {
     "duration": 0.035582,
     "end_time": "2023-12-24T11:16:39.667423",
     "exception": false,
     "start_time": "2023-12-24T11:16:39.631841",
     "status": "completed"
    },
    "tags": []
   },
   "outputs": [
    {
     "data": {
      "text/plain": [
       "tensor([ 1.9097e-01,  1.4392e-01, -5.2793e-01, -1.5395e-02,  1.3994e-01,\n",
       "         1.1534e-01, -6.0866e-01,  1.5007e-01, -1.8237e-01, -5.8885e-01,\n",
       "         1.2199e-01, -5.5895e-01,  7.8022e-05,  1.4010e-01,  1.4360e-01,\n",
       "         1.2047e-01,  2.0541e-01,  1.3693e-01,  1.5005e-01,  1.0900e-01,\n",
       "         8.8263e-02,  1.6718e-01, -6.1490e-01,  1.8753e-01,  7.8782e-02,\n",
       "         3.5617e-02, -1.5279e-02,  1.9267e-01,  5.2322e-02,  1.4120e-01,\n",
       "         2.0549e-01, -1.2128e-01,  6.7028e-02,  1.1458e-01,  2.1645e-01,\n",
       "        -1.2220e-01,  1.1093e-01, -6.6376e-01,  8.6972e-02,  6.0778e-02,\n",
       "         1.2924e-01,  8.6972e-02,  2.3733e-01, -6.3691e-01,  6.9984e-02,\n",
       "         2.8834e-01, -4.3459e-02, -6.0472e-02,  1.5102e-01,  8.2816e-02,\n",
       "         2.3015e-02, -1.4840e-01, -9.0121e-02,  1.0002e-01,  1.5897e-01,\n",
       "         1.8445e-01,  1.4382e-01,  6.3712e-02,  7.4231e-02,  5.8272e-02,\n",
       "        -5.6848e-01,  3.7131e-02,  2.6025e-01,  7.5276e-02,  1.3980e-01,\n",
       "        -1.0987e-02,  1.3570e-01,  7.3880e-02,  1.8419e-01,  2.1963e-01,\n",
       "         9.6757e-02, -4.8375e-01,  1.8021e-01,  7.5805e-02,  3.3004e-02,\n",
       "         5.5314e-02,  8.6972e-02, -2.7910e-02,  1.1446e-01,  2.2335e-01,\n",
       "        -4.9658e-02, -7.3559e-01,  8.4016e-02,  9.3926e-02,  2.5829e-01,\n",
       "        -4.9665e-01, -7.4907e-01, -5.5970e-02, -5.4441e-01,  1.3145e-01,\n",
       "         1.1840e-01,  8.6972e-02, -6.7014e-01, -5.0244e-01, -7.0577e-01,\n",
       "        -4.3470e-01,  1.7978e-01,  6.8696e-03,  1.3271e-01,  1.3170e-01,\n",
       "         8.3209e-02,  1.4120e-01,  1.2224e-01,  1.1375e-01, -2.3796e-02,\n",
       "         2.1214e-01,  1.0129e-01,  1.4223e-01, -7.0605e-01,  8.8174e-02,\n",
       "         2.1985e-01,  2.9488e-02,  2.2415e-02,  2.5520e-03,  8.6972e-02,\n",
       "        -5.4584e-01,  2.0182e-01,  1.4382e-01,  1.6681e-01, -5.9927e-01,\n",
       "        -1.2648e-01, -4.9808e-01,  1.4382e-01, -1.0972e-01, -5.2789e-01,\n",
       "         4.3650e-02,  9.0922e-02,  9.4494e-02,  4.1829e-02,  1.4242e-01,\n",
       "        -9.2143e-02,  1.0291e-02,  1.0583e-01,  1.6918e-01, -7.4832e-01,\n",
       "         6.5736e-02,  2.8171e-01,  9.7160e-02, -5.3901e-01,  1.4584e-01,\n",
       "         1.6118e-01, -5.8274e-01,  1.8566e-01,  1.7779e-01, -3.3939e-02,\n",
       "         8.6315e-02,  1.4151e-01, -5.1104e-01,  1.4870e-02, -4.3976e-01,\n",
       "        -5.4593e-02,  2.3909e-01,  1.3512e-01, -8.3561e-02,  9.4851e-03,\n",
       "        -2.0039e-01,  8.6972e-02,  2.5042e-02,  1.7817e-01,  4.6542e-02,\n",
       "        -6.3891e-01, -5.4797e-01, -5.0264e-03,  4.0080e-02, -6.3526e-01,\n",
       "         4.8608e-03,  9.7677e-02,  2.0953e-01,  1.9827e-01,  1.5287e-01,\n",
       "        -8.5036e-02,  2.5307e-02, -7.6143e-02,  7.5805e-02,  1.7296e-01,\n",
       "         1.0534e-01,  2.1213e-02, -3.5843e-03])"
      ]
     },
     "execution_count": 41,
     "metadata": {},
     "output_type": "execute_result"
    }
   ],
   "source": [
    "preds = cal_preds(katsayilar, val_indep)\n",
    "preds"
   ]
  },
  {
   "cell_type": "code",
   "execution_count": 42,
   "id": "eec79a40",
   "metadata": {
    "execution": {
     "iopub.execute_input": "2023-12-24T11:16:39.717404Z",
     "iopub.status.busy": "2023-12-24T11:16:39.716588Z",
     "iopub.status.idle": "2023-12-24T11:16:39.723708Z",
     "shell.execute_reply": "2023-12-24T11:16:39.722830Z"
    },
    "papermill": {
     "duration": 0.034366,
     "end_time": "2023-12-24T11:16:39.725946",
     "exception": false,
     "start_time": "2023-12-24T11:16:39.691580",
     "status": "completed"
    },
    "tags": []
   },
   "outputs": [
    {
     "data": {
      "text/plain": [
       "tensor([False,  True,  True,  True,  True,  True, False, False,  True, False,\n",
       "        False, False, False, False,  True, False])"
      ]
     },
     "execution_count": 42,
     "metadata": {},
     "output_type": "execute_result"
    }
   ],
   "source": [
    "results = val_dep.bool()==(preds>0.5)\n",
    "results[:16]"
   ]
  },
  {
   "cell_type": "code",
   "execution_count": 43,
   "id": "1eb7338c",
   "metadata": {
    "execution": {
     "iopub.execute_input": "2023-12-24T11:16:39.775860Z",
     "iopub.status.busy": "2023-12-24T11:16:39.775480Z",
     "iopub.status.idle": "2023-12-24T11:16:39.782416Z",
     "shell.execute_reply": "2023-12-24T11:16:39.781551Z"
    },
    "papermill": {
     "duration": 0.034161,
     "end_time": "2023-12-24T11:16:39.784370",
     "exception": false,
     "start_time": "2023-12-24T11:16:39.750209",
     "status": "completed"
    },
    "tags": []
   },
   "outputs": [
    {
     "data": {
      "text/plain": [
       "tensor(0.5955)"
      ]
     },
     "execution_count": 43,
     "metadata": {},
     "output_type": "execute_result"
    }
   ],
   "source": [
    "results.float().mean()"
   ]
  },
  {
   "cell_type": "code",
   "execution_count": 44,
   "id": "8d08eb5a",
   "metadata": {
    "execution": {
     "iopub.execute_input": "2023-12-24T11:16:39.834347Z",
     "iopub.status.busy": "2023-12-24T11:16:39.833613Z",
     "iopub.status.idle": "2023-12-24T11:16:39.841317Z",
     "shell.execute_reply": "2023-12-24T11:16:39.840458Z"
    },
    "papermill": {
     "duration": 0.034904,
     "end_time": "2023-12-24T11:16:39.843223",
     "exception": false,
     "start_time": "2023-12-24T11:16:39.808319",
     "status": "completed"
    },
    "tags": []
   },
   "outputs": [
    {
     "data": {
      "text/plain": [
       "tensor(0.5955)"
      ]
     },
     "execution_count": 44,
     "metadata": {},
     "output_type": "execute_result"
    }
   ],
   "source": [
    "def acc(katsayilar): return (val_dep.bool()==(cal_preds(katsayilar, val_indep)>0.5)).float().mean()\n",
    "acc(katsayilar)"
   ]
  },
  {
   "cell_type": "markdown",
   "id": "fd9eb7ae",
   "metadata": {
    "papermill": {
     "duration": 0.024081,
     "end_time": "2023-12-24T11:16:39.891538",
     "exception": false,
     "start_time": "2023-12-24T11:16:39.867457",
     "status": "completed"
    },
    "tags": []
   },
   "source": [
    "**baktığımız zaman tahminlerimiz de negatif değerler var. işte bu değerlerin hepsini 0-1 arasına sıkıştırmak için kullanıyoruz sigmoidi.**"
   ]
  },
  {
   "cell_type": "code",
   "execution_count": 45,
   "id": "197067c8",
   "metadata": {
    "execution": {
     "iopub.execute_input": "2023-12-24T11:16:39.941715Z",
     "iopub.status.busy": "2023-12-24T11:16:39.940812Z",
     "iopub.status.idle": "2023-12-24T11:16:39.949803Z",
     "shell.execute_reply": "2023-12-24T11:16:39.948890Z"
    },
    "papermill": {
     "duration": 0.036399,
     "end_time": "2023-12-24T11:16:39.951870",
     "exception": false,
     "start_time": "2023-12-24T11:16:39.915471",
     "status": "completed"
    },
    "tags": []
   },
   "outputs": [
    {
     "data": {
      "text/plain": [
       "tensor([ 1.9097e-01,  1.4392e-01, -5.2793e-01, -1.5395e-02,  1.3994e-01,\n",
       "         1.1534e-01, -6.0866e-01,  1.5007e-01, -1.8237e-01, -5.8885e-01,\n",
       "         1.2199e-01, -5.5895e-01,  7.8022e-05,  1.4010e-01,  1.4360e-01,\n",
       "         1.2047e-01,  2.0541e-01,  1.3693e-01,  1.5005e-01,  1.0900e-01,\n",
       "         8.8263e-02,  1.6718e-01, -6.1490e-01,  1.8753e-01,  7.8782e-02,\n",
       "         3.5617e-02, -1.5279e-02,  1.9267e-01,  5.2322e-02,  1.4120e-01,\n",
       "         2.0549e-01, -1.2128e-01,  6.7028e-02,  1.1458e-01,  2.1645e-01,\n",
       "        -1.2220e-01,  1.1093e-01, -6.6376e-01,  8.6972e-02,  6.0778e-02,\n",
       "         1.2924e-01,  8.6972e-02,  2.3733e-01, -6.3691e-01,  6.9984e-02,\n",
       "         2.8834e-01, -4.3459e-02, -6.0472e-02,  1.5102e-01,  8.2816e-02,\n",
       "         2.3015e-02, -1.4840e-01, -9.0121e-02,  1.0002e-01,  1.5897e-01,\n",
       "         1.8445e-01,  1.4382e-01,  6.3712e-02,  7.4231e-02,  5.8272e-02,\n",
       "        -5.6848e-01,  3.7131e-02,  2.6025e-01,  7.5276e-02,  1.3980e-01,\n",
       "        -1.0987e-02,  1.3570e-01,  7.3880e-02,  1.8419e-01,  2.1963e-01,\n",
       "         9.6757e-02, -4.8375e-01,  1.8021e-01,  7.5805e-02,  3.3004e-02,\n",
       "         5.5314e-02,  8.6972e-02, -2.7910e-02,  1.1446e-01,  2.2335e-01,\n",
       "        -4.9658e-02, -7.3559e-01,  8.4016e-02,  9.3926e-02,  2.5829e-01,\n",
       "        -4.9665e-01, -7.4907e-01, -5.5970e-02, -5.4441e-01,  1.3145e-01,\n",
       "         1.1840e-01,  8.6972e-02, -6.7014e-01, -5.0244e-01, -7.0577e-01,\n",
       "        -4.3470e-01,  1.7978e-01,  6.8696e-03,  1.3271e-01,  1.3170e-01,\n",
       "         8.3209e-02,  1.4120e-01,  1.2224e-01,  1.1375e-01, -2.3796e-02,\n",
       "         2.1214e-01,  1.0129e-01,  1.4223e-01, -7.0605e-01,  8.8174e-02,\n",
       "         2.1985e-01,  2.9488e-02,  2.2415e-02,  2.5520e-03,  8.6972e-02,\n",
       "        -5.4584e-01,  2.0182e-01,  1.4382e-01,  1.6681e-01, -5.9927e-01,\n",
       "        -1.2648e-01, -4.9808e-01,  1.4382e-01, -1.0972e-01, -5.2789e-01,\n",
       "         4.3650e-02,  9.0922e-02,  9.4494e-02,  4.1829e-02,  1.4242e-01,\n",
       "        -9.2143e-02,  1.0291e-02,  1.0583e-01,  1.6918e-01, -7.4832e-01,\n",
       "         6.5736e-02,  2.8171e-01,  9.7160e-02, -5.3901e-01,  1.4584e-01,\n",
       "         1.6118e-01, -5.8274e-01,  1.8566e-01,  1.7779e-01, -3.3939e-02,\n",
       "         8.6315e-02,  1.4151e-01, -5.1104e-01,  1.4870e-02, -4.3976e-01,\n",
       "        -5.4593e-02,  2.3909e-01,  1.3512e-01, -8.3561e-02,  9.4851e-03,\n",
       "        -2.0039e-01,  8.6972e-02,  2.5042e-02,  1.7817e-01,  4.6542e-02,\n",
       "        -6.3891e-01, -5.4797e-01, -5.0264e-03,  4.0080e-02, -6.3526e-01,\n",
       "         4.8608e-03,  9.7677e-02,  2.0953e-01,  1.9827e-01,  1.5287e-01,\n",
       "        -8.5036e-02,  2.5307e-02, -7.6143e-02,  7.5805e-02,  1.7296e-01,\n",
       "         1.0534e-01,  2.1213e-02, -3.5843e-03])"
      ]
     },
     "execution_count": 45,
     "metadata": {},
     "output_type": "execute_result"
    }
   ],
   "source": [
    "preds"
   ]
  },
  {
   "cell_type": "code",
   "execution_count": 46,
   "id": "46d94695",
   "metadata": {
    "execution": {
     "iopub.execute_input": "2023-12-24T11:16:40.003130Z",
     "iopub.status.busy": "2023-12-24T11:16:40.002293Z",
     "iopub.status.idle": "2023-12-24T11:16:40.527839Z",
     "shell.execute_reply": "2023-12-24T11:16:40.526898Z"
    },
    "papermill": {
     "duration": 0.553601,
     "end_time": "2023-12-24T11:16:40.529878",
     "exception": false,
     "start_time": "2023-12-24T11:16:39.976277",
     "status": "completed"
    },
    "tags": []
   },
   "outputs": [
    {
     "data": {
      "image/png": "[encoded data removed]",
      "text/plain": [
       "<Figure size 640x480 with 1 Axes>"
      ]
     },
     "metadata": {},
     "output_type": "display_data"
    }
   ],
   "source": [
    "import sympy\n",
    "sympy.plot(\"1/(1+exp(-x))\", xlim=(-5,5));"
   ]
  },
  {
   "cell_type": "markdown",
   "id": "7f7ab6f6",
   "metadata": {
    "papermill": {
     "duration": 0.024771,
     "end_time": "2023-12-24T11:16:40.579653",
     "exception": false,
     "start_time": "2023-12-24T11:16:40.554882",
     "status": "completed"
    },
    "tags": []
   },
   "source": [
    "pytorchda sigmoid uygulanması."
   ]
  },
  {
   "cell_type": "code",
   "execution_count": 47,
   "id": "38b54d71",
   "metadata": {
    "execution": {
     "iopub.execute_input": "2023-12-24T11:16:40.630181Z",
     "iopub.status.busy": "2023-12-24T11:16:40.629835Z",
     "iopub.status.idle": "2023-12-24T11:16:40.647718Z",
     "shell.execute_reply": "2023-12-24T11:16:40.646828Z"
    },
    "papermill": {
     "duration": 0.045571,
     "end_time": "2023-12-24T11:16:40.649722",
     "exception": false,
     "start_time": "2023-12-24T11:16:40.604151",
     "status": "completed"
    },
    "tags": []
   },
   "outputs": [
    {
     "data": {
      "text/plain": [
       "tensor([0.5141, 0.3463, 0.5235, 0.4990, 0.5334, 0.5344, 0.5274, 0.4722, 0.5431,\n",
       "        0.3497, 0.4923, 0.5432, 0.5175, 0.5673, 0.5109, 0.5622, 0.4728, 0.5339,\n",
       "        0.5074, 0.3704, 0.5332, 0.5444, 0.5251, 0.5068, 0.4779, 0.5656, 0.3710,\n",
       "        0.4629, 0.5350, 0.5221, 0.3715, 0.3212, 0.5352, 0.5815, 0.3350, 0.5074,\n",
       "        0.3710, 0.5185, 0.4864, 0.3471, 0.5281, 0.5207, 0.3696, 0.3560, 0.5297,\n",
       "        0.5217, 0.5168, 0.5352, 0.3403, 0.4938, 0.4589, 0.5191, 0.3557, 0.5190,\n",
       "        0.3942, 0.5025, 0.5337, 0.3755, 0.5168, 0.4651, 0.3690, 0.5018, 0.5019,\n",
       "        0.4815, 0.3557, 0.3638, 0.5422, 0.5162, 0.5095, 0.5082, 0.5460, 0.4697,\n",
       "        0.4993, 0.3553, 0.4955, 0.5236, 0.5221, 0.5217, 0.5195, 0.5200, 0.5177,\n",
       "        0.5242, 0.5352, 0.5016, 0.5295, 0.4973, 0.5171, 0.5217, 0.4665, 0.5217,\n",
       "        0.5270, 0.5179, 0.5087, 0.5248, 0.5603, 0.5217, 0.3988, 0.3521, 0.5459,\n",
       "        0.5250, 0.5256, 0.5221, 0.4973, 0.5300, 0.5214, 0.5263, 0.5187, 0.5223,\n",
       "        0.5369, 0.5082, 0.5199, 0.3436, 0.5196, 0.5063, 0.3526, 0.5188, 0.5845,\n",
       "        0.5235, 0.3302, 0.4695, 0.4849, 0.5217, 0.3684, 0.5422, 0.5322, 0.3458,\n",
       "        0.5359, 0.5237, 0.3569, 0.5463, 0.3786, 0.5197, 0.5282, 0.5190, 0.5349,\n",
       "        0.3773, 0.5265, 0.5017, 0.5110, 0.3383, 0.3814, 0.5196, 0.5022, 0.5329,\n",
       "        0.5296, 0.5150, 0.5254, 0.4896, 0.5591, 0.5528, 0.5629, 0.4810, 0.5550,\n",
       "        0.5534, 0.5233, 0.3802, 0.5268, 0.5281, 0.5205, 0.4501, 0.5432, 0.5468,\n",
       "        0.5244, 0.5131, 0.4526, 0.5140, 0.5061, 0.5630, 0.5083, 0.4913, 0.5428,\n",
       "        0.4749, 0.4962, 0.5188, 0.3857, 0.5208, 0.4922, 0.3802, 0.5402, 0.5753,\n",
       "        0.4494, 0.3783, 0.4775, 0.4876, 0.5068, 0.4963, 0.5162, 0.5301, 0.5459,\n",
       "        0.5348, 0.5417, 0.5286, 0.5090, 0.5043, 0.3748, 0.3601, 0.5359, 0.5522,\n",
       "        0.5352, 0.5332, 0.5232, 0.4501, 0.5358, 0.3926, 0.5154, 0.5055, 0.5113,\n",
       "        0.3577, 0.5268, 0.3696, 0.5239, 0.5364, 0.5213, 0.5402, 0.5287, 0.3319,\n",
       "        0.5245, 0.5328, 0.3459, 0.5439, 0.5132, 0.5370, 0.5502, 0.5221, 0.4930,\n",
       "        0.5171, 0.5323, 0.5198, 0.5275, 0.4915, 0.4906, 0.5276, 0.5700, 0.4726,\n",
       "        0.5375, 0.5221, 0.5355, 0.5282, 0.5323, 0.5444, 0.3528, 0.5162, 0.5428,\n",
       "        0.5216, 0.3770, 0.5058, 0.5227, 0.5556, 0.5142, 0.5461, 0.5235, 0.5270,\n",
       "        0.5480, 0.5089, 0.5475, 0.3864, 0.3377, 0.4918, 0.3173, 0.5605, 0.5359,\n",
       "        0.4711, 0.5224, 0.5862, 0.5352, 0.5502, 0.4684, 0.5162, 0.5231, 0.4888,\n",
       "        0.5050, 0.5638, 0.5562, 0.3788, 0.5352, 0.5216, 0.5439, 0.5827, 0.4781,\n",
       "        0.5217, 0.5788, 0.5264, 0.5105, 0.5164, 0.5082, 0.3771, 0.5253, 0.5199,\n",
       "        0.5528, 0.5331, 0.4893, 0.3243, 0.3930, 0.5195, 0.5221, 0.3557, 0.3705,\n",
       "        0.4690, 0.5053, 0.3545, 0.5352, 0.5024, 0.5576, 0.5476, 0.5217, 0.4685,\n",
       "        0.3321, 0.3195, 0.3697, 0.3489, 0.3369, 0.3212, 0.5280, 0.5263, 0.5465,\n",
       "        0.5236, 0.5137, 0.5641, 0.5054, 0.3486, 0.5213, 0.5252, 0.5539, 0.5218,\n",
       "        0.4501, 0.3401, 0.5649, 0.5459, 0.5173, 0.3462, 0.5017, 0.5293, 0.5025,\n",
       "        0.4849, 0.4702, 0.5221, 0.4891, 0.3451, 0.5439, 0.5248, 0.5032, 0.4676,\n",
       "        0.5381, 0.5349, 0.5465, 0.5332, 0.5501, 0.5019, 0.4927, 0.5395, 0.5184,\n",
       "        0.5028, 0.3668, 0.5019, 0.3710, 0.5232, 0.5040, 0.5480, 0.5350, 0.5350,\n",
       "        0.5584, 0.3663, 0.3918, 0.5356, 0.5168, 0.5298, 0.3668, 0.3704, 0.5352,\n",
       "        0.3399, 0.3387, 0.5117, 0.5164, 0.3275, 0.4727, 0.3306, 0.5207, 0.3467,\n",
       "        0.3757, 0.5170, 0.3372, 0.3581, 0.5305, 0.4993, 0.5221, 0.4962, 0.4545,\n",
       "        0.5459, 0.5359, 0.3745, 0.5100, 0.5191, 0.5118, 0.3245, 0.5329, 0.5201,\n",
       "        0.5289, 0.5448, 0.5365, 0.5379, 0.5379, 0.5238, 0.5073, 0.5071, 0.5156,\n",
       "        0.5288, 0.5509, 0.5102, 0.5191, 0.4915, 0.5221, 0.5379, 0.5006, 0.5827,\n",
       "        0.5431, 0.5211, 0.5325, 0.5512, 0.5402, 0.5115, 0.3696, 0.5328, 0.5274,\n",
       "        0.5204, 0.5044, 0.5235, 0.5180, 0.5156, 0.5359, 0.5302, 0.5121, 0.5019,\n",
       "        0.5328, 0.5163, 0.5146, 0.4860, 0.5023, 0.5489, 0.5494, 0.5449, 0.5479,\n",
       "        0.5147, 0.5162, 0.5374, 0.5216, 0.4904, 0.5266, 0.5184, 0.3345, 0.5350,\n",
       "        0.5502, 0.4987, 0.3616, 0.3538, 0.5217, 0.3746, 0.5512, 0.4877, 0.5642,\n",
       "        0.5359, 0.5333, 0.5323, 0.5255, 0.5591, 0.5217, 0.5387, 0.5827, 0.5417,\n",
       "        0.5359, 0.3305, 0.5235, 0.5353, 0.5464, 0.3782, 0.5156, 0.4955, 0.5288,\n",
       "        0.5220, 0.5207, 0.5028, 0.4630, 0.5827, 0.5492, 0.5593, 0.3305, 0.4915,\n",
       "        0.4892, 0.3883, 0.5281, 0.4991, 0.4987, 0.5203, 0.5381, 0.3925, 0.5185,\n",
       "        0.3600, 0.3603, 0.5109, 0.4933, 0.5223, 0.5131, 0.5321, 0.5355, 0.5319,\n",
       "        0.4770, 0.3210, 0.5547, 0.5078, 0.5080, 0.4891, 0.5412, 0.5217, 0.5207,\n",
       "        0.3650, 0.5229, 0.5277, 0.5474, 0.5161, 0.5264, 0.5305, 0.4904, 0.5199,\n",
       "        0.3710, 0.3736, 0.3710, 0.5533, 0.5642, 0.4686, 0.5379, 0.5327, 0.5026,\n",
       "        0.3710, 0.3688, 0.3750, 0.5262, 0.5272, 0.5301, 0.3385, 0.5116, 0.3660,\n",
       "        0.5263, 0.4769, 0.4790, 0.5228, 0.3517, 0.5505, 0.5084, 0.3797, 0.5200,\n",
       "        0.5033, 0.3480, 0.5248, 0.5357, 0.3690, 0.5195, 0.5480, 0.3660, 0.3209,\n",
       "        0.5079, 0.5133, 0.5359, 0.5390, 0.5374, 0.5217, 0.5211, 0.4881, 0.5168,\n",
       "        0.5583, 0.3710, 0.5306, 0.5773, 0.5114, 0.5207, 0.5352, 0.5132, 0.5063,\n",
       "        0.5438, 0.5023, 0.3528, 0.5305, 0.5244, 0.3509, 0.5532, 0.3613, 0.3681,\n",
       "        0.5051, 0.5556, 0.3780, 0.5196, 0.5217, 0.5354, 0.3583, 0.5478, 0.5595,\n",
       "        0.5281, 0.5203, 0.5166, 0.5887, 0.3710, 0.3614, 0.5180, 0.5221, 0.4993,\n",
       "        0.5429, 0.3672, 0.5159, 0.5284, 0.5085, 0.3747, 0.4918, 0.5667, 0.5239,\n",
       "        0.5162, 0.5359, 0.5334, 0.5214, 0.5274, 0.5040, 0.4901, 0.5397, 0.3563,\n",
       "        0.5072, 0.3593, 0.5190, 0.5066, 0.5434, 0.5827, 0.4842, 0.5242, 0.5359,\n",
       "        0.5647, 0.5524, 0.3620, 0.5697, 0.4862, 0.5374, 0.5305, 0.5338, 0.5716,\n",
       "        0.5026, 0.5179, 0.3399, 0.4788, 0.4870, 0.3305, 0.3553, 0.5168, 0.3832,\n",
       "        0.5228, 0.5211, 0.5221, 0.5290, 0.5178, 0.5351, 0.5312, 0.4881, 0.5221,\n",
       "        0.5368, 0.5328, 0.3881, 0.4912, 0.3870, 0.5329, 0.5356, 0.5105, 0.4966,\n",
       "        0.5349, 0.5223, 0.5418, 0.4877, 0.5355, 0.4957, 0.5856, 0.5413, 0.5827,\n",
       "        0.5159, 0.5223, 0.5113, 0.5756, 0.3295, 0.5344, 0.3416, 0.5152, 0.4683,\n",
       "        0.5572, 0.3783, 0.4663, 0.5125, 0.5159, 0.4715, 0.4941, 0.3524, 0.4870,\n",
       "        0.3720, 0.5459, 0.5627, 0.5429, 0.5353, 0.3613, 0.5416, 0.3086, 0.5197,\n",
       "        0.3648, 0.5370, 0.5171, 0.5374, 0.5547, 0.5271, 0.4729, 0.3638, 0.3455,\n",
       "        0.5078, 0.5138, 0.5243, 0.5633, 0.5173, 0.3334, 0.5401, 0.5240, 0.5318,\n",
       "        0.5097, 0.5093, 0.5444, 0.5612, 0.4911, 0.5163, 0.5095, 0.5353, 0.5154,\n",
       "        0.5152, 0.4741, 0.3432, 0.5827, 0.5328, 0.5328, 0.5146, 0.5503, 0.3178,\n",
       "        0.5221, 0.5221, 0.5056, 0.4934, 0.3240, 0.5026, 0.5294, 0.5435, 0.5022,\n",
       "        0.5396, 0.4826, 0.5433, 0.5069, 0.5074, 0.5285, 0.5210, 0.5467, 0.5123,\n",
       "        0.5265, 0.5296, 0.5323, 0.4950, 0.5116, 0.5417, 0.3670, 0.5094, 0.5138,\n",
       "        0.5088, 0.3498, 0.5421, 0.5089, 0.5296, 0.5189, 0.5475, 0.5715, 0.3710,\n",
       "        0.5837, 0.5160, 0.5359, 0.4934, 0.5359, 0.5012, 0.3596, 0.4785, 0.5109,\n",
       "        0.5203, 0.5250, 0.5245, 0.5159, 0.4791, 0.4983, 0.3595, 0.5359, 0.5131,\n",
       "        0.4494, 0.3540, 0.5231, 0.5497, 0.5341, 0.5272, 0.3770, 0.5133, 0.5444,\n",
       "        0.5332, 0.4835, 0.3566, 0.5273, 0.5297, 0.5852, 0.5153, 0.5497, 0.4968,\n",
       "        0.5242, 0.5185, 0.5491, 0.4737, 0.5286, 0.5697, 0.5203, 0.3748, 0.5454,\n",
       "        0.4879, 0.5188, 0.5237, 0.5842, 0.5290, 0.4536, 0.5377, 0.4870, 0.3633,\n",
       "        0.5359, 0.5272, 0.3441, 0.5079, 0.3710, 0.5211, 0.5149, 0.3558, 0.5173,\n",
       "        0.5217, 0.4955, 0.3546, 0.5177, 0.5291, 0.3591, 0.3833, 0.5131, 0.5418,\n",
       "        0.4501, 0.3806, 0.5337, 0.3293, 0.4723, 0.5748, 0.3486, 0.5037, 0.5349,\n",
       "        0.5244, 0.5008, 0.5364, 0.3890, 0.3710, 0.5157, 0.5256, 0.5330, 0.4494,\n",
       "        0.5339, 0.5522, 0.3753, 0.5035, 0.5189, 0.5000, 0.5242, 0.5241, 0.5459,\n",
       "        0.5442, 0.3672, 0.3615, 0.5141, 0.5168, 0.5221, 0.3793, 0.5342, 0.5316,\n",
       "        0.5144, 0.5418, 0.5250, 0.5883, 0.5370, 0.4996, 0.5197, 0.3564, 0.5443])"
      ]
     },
     "execution_count": 47,
     "metadata": {},
     "output_type": "execute_result"
    }
   ],
   "source": [
    "def cal_preds(katsayilar, t_indep): return torch.sigmoid((t_indep*katsayilar).sum(axis=1))\n",
    "cal_preds(katsayilar, t_indep)"
   ]
  },
  {
   "cell_type": "code",
   "execution_count": 48,
   "id": "3bf6266d",
   "metadata": {
    "execution": {
     "iopub.execute_input": "2023-12-24T11:16:40.701068Z",
     "iopub.status.busy": "2023-12-24T11:16:40.700444Z",
     "iopub.status.idle": "2023-12-24T11:16:40.729840Z",
     "shell.execute_reply": "2023-12-24T11:16:40.728960Z"
    },
    "papermill": {
     "duration": 0.057137,
     "end_time": "2023-12-24T11:16:40.731742",
     "exception": false,
     "start_time": "2023-12-24T11:16:40.674605",
     "status": "completed"
    },
    "tags": []
   },
   "outputs": [
    {
     "name": "stdout",
     "output_type": "stream",
     "text": [
      "loss: 0.538; loss: 0.529; loss: 0.520; loss: 0.512; loss: 0.505; loss: 0.498; loss: 0.491; loss: 0.485; loss: 0.479; loss: 0.473; loss: 0.467; loss: 0.461; loss: 0.455; loss: 0.450; loss: 0.444; loss: 0.438; loss: 0.433; loss: 0.427; loss: 0.422; loss: 0.416; loss: 0.411; loss: 0.405; loss: 0.400; loss: 0.394; loss: 0.389; loss: 0.384; loss: 0.379; loss: 0.373; loss: 0.368; loss: 0.363; loss: 0.359; loss: 0.354; loss: 0.350; loss: 0.346; loss: 0.343; loss: 0.339; loss: 0.336; loss: 0.333; loss: 0.330; loss: 0.326; loss: 0.323; loss: 0.321; loss: 0.318; loss: 0.315; loss: 0.313; loss: 0.310; loss: 0.308; loss: 0.306; loss: 0.303; loss: 0.301; loss: 0.300; loss: 0.298; loss: 0.296; loss: 0.294; loss: 0.293; loss: 0.291; loss: 0.290; loss: 0.288; loss: 0.287; loss: 0.285; loss: 0.284; loss: 0.282; loss: 0.281; loss: 0.280; loss: 0.279; loss: 0.277; loss: 0.276; loss: 0.274; loss: 0.273; loss: 0.272; loss: 0.271; loss: 0.269; loss: 0.268; loss: 0.267; loss: 0.266; loss: 0.265; loss: 0.264; loss: 0.263; loss: 0.262; loss: 0.261; loss: 0.260; loss: 0.260; loss: 0.259; loss: 0.258; loss: 0.257; loss: 0.257; loss: 0.256; loss: 0.255; loss: 0.254; loss: 0.253; loss: 0.253; loss: 0.253; loss: 0.251; loss: 0.251; loss: 0.250; loss: 0.250; loss: 0.249; loss: 0.249; loss: 0.248; loss: 0.248; "
     ]
    },
    {
     "data": {
      "text/plain": [
       "tensor([-0.2301,  0.0503,  0.2107, -0.0143, -0.4921,  0.3060,  0.6312,  0.4463,\n",
       "         0.3955,  0.1575,  0.2100,  0.1581], requires_grad=True)"
      ]
     },
     "execution_count": 48,
     "metadata": {},
     "output_type": "execute_result"
    }
   ],
   "source": [
    "katsayilar = train_model(100)\n",
    "katsayilar"
   ]
  },
  {
   "cell_type": "code",
   "execution_count": 49,
   "id": "3d871b4c",
   "metadata": {
    "execution": {
     "iopub.execute_input": "2023-12-24T11:16:40.783645Z",
     "iopub.status.busy": "2023-12-24T11:16:40.783277Z",
     "iopub.status.idle": "2023-12-24T11:16:40.789929Z",
     "shell.execute_reply": "2023-12-24T11:16:40.789039Z"
    },
    "papermill": {
     "duration": 0.034952,
     "end_time": "2023-12-24T11:16:40.791898",
     "exception": false,
     "start_time": "2023-12-24T11:16:40.756946",
     "status": "completed"
    },
    "tags": []
   },
   "outputs": [
    {
     "data": {
      "text/plain": [
       "tensor(0.6067)"
      ]
     },
     "execution_count": 49,
     "metadata": {},
     "output_type": "execute_result"
    }
   ],
   "source": [
    "acc(katsayilar)"
   ]
  },
  {
   "cell_type": "code",
   "execution_count": 50,
   "id": "bd6833af",
   "metadata": {
    "execution": {
     "iopub.execute_input": "2023-12-24T11:16:40.844207Z",
     "iopub.status.busy": "2023-12-24T11:16:40.843364Z",
     "iopub.status.idle": "2023-12-24T11:16:40.853010Z",
     "shell.execute_reply": "2023-12-24T11:16:40.852134Z"
    },
    "papermill": {
     "duration": 0.037753,
     "end_time": "2023-12-24T11:16:40.854883",
     "exception": false,
     "start_time": "2023-12-24T11:16:40.817130",
     "status": "completed"
    },
    "tags": []
   },
   "outputs": [
    {
     "data": {
      "text/plain": [
       "{'Age': tensor(-0.2301),\n",
       " 'SibSp': tensor(0.0503),\n",
       " 'Parch': tensor(0.2107),\n",
       " 'Fare': tensor(-0.0143),\n",
       " 'Sex_male': tensor(-0.4921),\n",
       " 'Sex_female': tensor(0.3060),\n",
       " 'Pclass_1': tensor(0.6312),\n",
       " 'Pclass_2': tensor(0.4463),\n",
       " 'Pclass_3': tensor(0.3955),\n",
       " 'Embarked_C': tensor(0.1575),\n",
       " 'Embarked_Q': tensor(0.2100),\n",
       " 'Embarked_S': tensor(0.1581)}"
      ]
     },
     "execution_count": 50,
     "metadata": {},
     "output_type": "execute_result"
    }
   ],
   "source": [
    "show_coeffs()"
   ]
  },
  {
   "cell_type": "code",
   "execution_count": 51,
   "id": "9b84d906",
   "metadata": {
    "execution": {
     "iopub.execute_input": "2023-12-24T11:16:40.907307Z",
     "iopub.status.busy": "2023-12-24T11:16:40.906954Z",
     "iopub.status.idle": "2023-12-24T11:16:40.917597Z",
     "shell.execute_reply": "2023-12-24T11:16:40.916697Z"
    },
    "papermill": {
     "duration": 0.039366,
     "end_time": "2023-12-24T11:16:40.919724",
     "exception": false,
     "start_time": "2023-12-24T11:16:40.880358",
     "status": "completed"
    },
    "tags": []
   },
   "outputs": [],
   "source": [
    "tst_df = pd.read_csv(\"/kaggle/input/titanic/test.csv\")"
   ]
  },
  {
   "cell_type": "code",
   "execution_count": 52,
   "id": "5c0fd5ac",
   "metadata": {
    "execution": {
     "iopub.execute_input": "2023-12-24T11:16:40.973904Z",
     "iopub.status.busy": "2023-12-24T11:16:40.973555Z",
     "iopub.status.idle": "2023-12-24T11:16:40.979048Z",
     "shell.execute_reply": "2023-12-24T11:16:40.977977Z"
    },
    "papermill": {
     "duration": 0.034299,
     "end_time": "2023-12-24T11:16:40.980929",
     "exception": false,
     "start_time": "2023-12-24T11:16:40.946630",
     "status": "completed"
    },
    "tags": []
   },
   "outputs": [],
   "source": [
    "tst_df['Fare'] = tst_df.Fare.fillna(0)"
   ]
  },
  {
   "cell_type": "code",
   "execution_count": 53,
   "id": "e06d29b8",
   "metadata": {
    "execution": {
     "iopub.execute_input": "2023-12-24T11:16:41.035074Z",
     "iopub.status.busy": "2023-12-24T11:16:41.034702Z",
     "iopub.status.idle": "2023-12-24T11:16:41.039814Z",
     "shell.execute_reply": "2023-12-24T11:16:41.038868Z"
    },
    "papermill": {
     "duration": 0.03397,
     "end_time": "2023-12-24T11:16:41.041935",
     "exception": false,
     "start_time": "2023-12-24T11:16:41.007965",
     "status": "completed"
    },
    "tags": []
   },
   "outputs": [
    {
     "name": "stdout",
     "output_type": "stream",
     "text": [
      "['PassengerId', 'Pclass', 'Name', 'Sex', 'Age', 'SibSp', 'Parch', 'Ticket', 'Fare', 'Cabin', 'Embarked']\n"
     ]
    }
   ],
   "source": [
    "print(tst_df.columns.tolist())"
   ]
  },
  {
   "cell_type": "code",
   "execution_count": 54,
   "id": "4c66b463",
   "metadata": {
    "execution": {
     "iopub.execute_input": "2023-12-24T11:16:41.095264Z",
     "iopub.status.busy": "2023-12-24T11:16:41.094887Z",
     "iopub.status.idle": "2023-12-24T11:16:41.105434Z",
     "shell.execute_reply": "2023-12-24T11:16:41.104550Z"
    },
    "papermill": {
     "duration": 0.039493,
     "end_time": "2023-12-24T11:16:41.107516",
     "exception": false,
     "start_time": "2023-12-24T11:16:41.068023",
     "status": "completed"
    },
    "tags": []
   },
   "outputs": [],
   "source": [
    "tst_df.fillna(modes, inplace=True)\n",
    "tst_df['Fare'] = np.log(tst_df['Fare']+1)"
   ]
  },
  {
   "cell_type": "code",
   "execution_count": 55,
   "id": "64529b30",
   "metadata": {
    "execution": {
     "iopub.execute_input": "2023-12-24T11:16:41.161574Z",
     "iopub.status.busy": "2023-12-24T11:16:41.160634Z",
     "iopub.status.idle": "2023-12-24T11:16:41.170363Z",
     "shell.execute_reply": "2023-12-24T11:16:41.169574Z"
    },
    "papermill": {
     "duration": 0.0392,
     "end_time": "2023-12-24T11:16:41.172472",
     "exception": false,
     "start_time": "2023-12-24T11:16:41.133272",
     "status": "completed"
    },
    "tags": []
   },
   "outputs": [],
   "source": [
    "tst_df = pd.get_dummies(tst_df, columns=[\"Sex\",\"Pclass\",\"Embarked\"])"
   ]
  },
  {
   "cell_type": "code",
   "execution_count": 56,
   "id": "fc9382c4",
   "metadata": {
    "execution": {
     "iopub.execute_input": "2023-12-24T11:16:41.227065Z",
     "iopub.status.busy": "2023-12-24T11:16:41.226719Z",
     "iopub.status.idle": "2023-12-24T11:16:41.235202Z",
     "shell.execute_reply": "2023-12-24T11:16:41.234367Z"
    },
    "papermill": {
     "duration": 0.037291,
     "end_time": "2023-12-24T11:16:41.237249",
     "exception": false,
     "start_time": "2023-12-24T11:16:41.199958",
     "status": "completed"
    },
    "tags": []
   },
   "outputs": [],
   "source": [
    "tst_indep = torch.tensor(tst_df[indep_cols].values.astype(np.float32), dtype=torch.float)\n",
    "valss, indices = tst_indep.max(dim=0)\n",
    "tst_indep = tst_indep / valss\n"
   ]
  },
  {
   "cell_type": "code",
   "execution_count": 57,
   "id": "22aa458d",
   "metadata": {
    "execution": {
     "iopub.execute_input": "2023-12-24T11:16:41.289941Z",
     "iopub.status.busy": "2023-12-24T11:16:41.289624Z",
     "iopub.status.idle": "2023-12-24T11:16:41.298419Z",
     "shell.execute_reply": "2023-12-24T11:16:41.297553Z"
    },
    "papermill": {
     "duration": 0.037574,
     "end_time": "2023-12-24T11:16:41.300592",
     "exception": false,
     "start_time": "2023-12-24T11:16:41.263018",
     "status": "completed"
    },
    "tags": []
   },
   "outputs": [
    {
     "data": {
      "text/plain": [
       "0      1\n",
       "1      1\n",
       "2      0\n",
       "3      0\n",
       "4      1\n",
       "      ..\n",
       "413    0\n",
       "414    1\n",
       "415    0\n",
       "416    0\n",
       "417    1\n",
       "Name: Survived, Length: 418, dtype: int32"
      ]
     },
     "execution_count": 57,
     "metadata": {},
     "output_type": "execute_result"
    }
   ],
   "source": [
    "tst_df['Survived'] = (cal_preds(tst_indep, katsayilar)>0.5).int()\n",
    "tst_df['Survived'] "
   ]
  },
  {
   "cell_type": "code",
   "execution_count": 58,
   "id": "ec83f835",
   "metadata": {
    "execution": {
     "iopub.execute_input": "2023-12-24T11:16:41.353285Z",
     "iopub.status.busy": "2023-12-24T11:16:41.352919Z",
     "iopub.status.idle": "2023-12-24T11:16:41.364291Z",
     "shell.execute_reply": "2023-12-24T11:16:41.363042Z"
    },
    "papermill": {
     "duration": 0.040101,
     "end_time": "2023-12-24T11:16:41.366379",
     "exception": false,
     "start_time": "2023-12-24T11:16:41.326278",
     "status": "completed"
    },
    "tags": []
   },
   "outputs": [],
   "source": [
    "sub_df = tst_df[['PassengerId','Survived']]\n",
    "sub_df.to_csv('sub.csv', index=False)"
   ]
  },
  {
   "cell_type": "code",
   "execution_count": 59,
   "id": "8b74f023",
   "metadata": {
    "execution": {
     "iopub.execute_input": "2023-12-24T11:16:41.420155Z",
     "iopub.status.busy": "2023-12-24T11:16:41.419766Z",
     "iopub.status.idle": "2023-12-24T11:16:42.365704Z",
     "shell.execute_reply": "2023-12-24T11:16:42.364328Z"
    },
    "papermill": {
     "duration": 0.976119,
     "end_time": "2023-12-24T11:16:42.368976",
     "exception": false,
     "start_time": "2023-12-24T11:16:41.392857",
     "status": "completed"
    },
    "tags": []
   },
   "outputs": [
    {
     "name": "stdout",
     "output_type": "stream",
     "text": [
      "PassengerId,Survived\r\n",
      "892,1\r\n",
      "893,1\r\n",
      "894,0\r\n",
      "895,0\r\n",
      "896,1\r\n",
      "897,1\r\n",
      "898,1\r\n",
      "899,1\r\n",
      "900,1\r\n"
     ]
    }
   ],
   "source": [
    "!head sub.csv"
   ]
  },
  {
   "cell_type": "code",
   "execution_count": null,
   "id": "2e0a8752",
   "metadata": {
    "papermill": {
     "duration": 0.027974,
     "end_time": "2023-12-24T11:16:42.423398",
     "exception": false,
     "start_time": "2023-12-24T11:16:42.395424",
     "status": "completed"
    },
    "tags": []
   },
   "outputs": [],
   "source": []
  }
 ],
 "metadata": {
  "kaggle": {
   "accelerator": "gpu",
   "dataSources": [
    {
     "databundleVersionId": 26502,
     "sourceId": 3136,
     "sourceType": "competition"
    }
   ],
   "dockerImageVersionId": 30588,
   "isGpuEnabled": true,
   "isInternetEnabled": true,
   "language": "python",
   "sourceType": "notebook"
  },
  "kernelspec": {
   "display_name": "Python 3",
   "language": "python",
   "name": "python3"
  },
  "language_info": {
   "codemirror_mode": {
    "name": "ipython",
    "version": 3
   },
   "file_extension": ".py",
   "mimetype": "text/x-python",
   "name": "python",
   "nbconvert_exporter": "python",
   "pygments_lexer": "ipython3",
   "version": "3.10.12"
  },
  "papermill": {
   "default_parameters": {},
   "duration": 18.614506,
   "end_time": "2023-12-24T11:16:44.084444",
   "environment_variables": {},
   "exception": null,
   "input_path": "__notebook__.ipynb",
   "output_path": "__notebook__.ipynb",
   "parameters": {},
   "start_time": "2023-12-24T11:16:25.469938",
   "version": "2.4.0"
  }
 },
 "nbformat": 4,
 "nbformat_minor": 5
}
